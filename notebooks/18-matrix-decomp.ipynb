{
 "cells": [
  {
   "cell_type": "markdown",
   "id": "d6a4f605-2881-4e3d-8d2c-ba95c816981c",
   "metadata": {},
   "source": [
    "Coming soon ..."
   ]
  },
  {
   "cell_type": "code",
   "execution_count": null,
   "id": "716dfb3e-e414-487b-b303-727e9175b027",
   "metadata": {},
   "outputs": [],
   "source": []
  }
 ],
 "metadata": {
  "kernelspec": {
   "display_name": "SageMath 10.3",
   "language": "sage",
   "name": "sagemath"
  },
  "language_info": {
   "codemirror_mode": {
    "name": "ipython",
    "version": 3
   },
   "file_extension": ".py",
   "mimetype": "text/x-python",
   "name": "python",
   "nbconvert_exporter": "python",
   "pygments_lexer": "ipython3",
   "version": "3.10.12"
  }
 },
 "nbformat": 4,
 "nbformat_minor": 5
}
