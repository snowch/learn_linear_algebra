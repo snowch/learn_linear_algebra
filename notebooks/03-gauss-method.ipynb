{
 "cells": [
  {
   "cell_type": "markdown",
   "id": "3f3dd293-a1c1-40dc-a322-b8f7373a10f7",
   "metadata": {},
   "source": [
    "### Matrix Row Operations\n",
    "\n",
    "In linear algebra, matrix row operations are fundamental techniques used to manipulate matrices into simpler forms, such as reduced row echelon form (RREF). These operations are essential for solving systems of linear equations, determining matrix rank, and finding inverse matrices.\n",
    "\n",
    "Let's start by defining our matrix and vector."
   ]
  },
  {
   "cell_type": "code",
   "execution_count": 1,
   "id": "cfaa36fd-809a-44b4-8f0a-7f44ae111957",
   "metadata": {},
   "outputs": [
    {
     "data": {
      "text/html": [
       "<html>\\(\\displaystyle \\left(\\begin{array}{rrr}\n",
       "1 & 2 & -1 \\\\\n",
       "0 & 1 & 3 \\\\\n",
       "2 & -1 & 1\n",
       "\\end{array}\\right)\\)</html>"
      ],
      "text/latex": [
       "$\\displaystyle \\left(\\begin{array}{rrr}\n",
       "1 & 2 & -1 \\\\\n",
       "0 & 1 & 3 \\\\\n",
       "2 & -1 & 1\n",
       "\\end{array}\\right)$"
      ],
      "text/plain": [
       "[ 1  2 -1]\n",
       "[ 0  1  3]\n",
       "[ 2 -1  1]"
      ]
     },
     "metadata": {},
     "output_type": "display_data"
    }
   ],
   "source": [
    "A = matrix(QQ, 3, [1,2,-1,0,1,3,2,-1,1])\n",
    "show(A)"
   ]
  },
  {
   "cell_type": "code",
   "execution_count": 2,
   "id": "e08a2661-24a4-4170-882c-df504753f1cb",
   "metadata": {},
   "outputs": [
    {
     "data": {
      "text/html": [
       "<html>\\(\\displaystyle \\left(4,\\,7,\\,1\\right)\\)</html>"
      ],
      "text/latex": [
       "$\\displaystyle \\left(4,\\,7,\\,1\\right)$"
      ],
      "text/plain": [
       "(4, 7, 1)"
      ]
     },
     "metadata": {},
     "output_type": "display_data"
    }
   ],
   "source": [
    "b = vector(QQ, [4,7,1])\n",
    "show(b)"
   ]
  },
  {
   "cell_type": "markdown",
   "id": "15b85e00-cd06-46a7-ad6f-f928a7168aec",
   "metadata": {},
   "source": [
    "Let's check this matrix has a solution:"
   ]
  },
  {
   "cell_type": "code",
   "execution_count": 3,
   "id": "38cbda5f-fcb6-4ffd-8ded-e9acfac0d29b",
   "metadata": {},
   "outputs": [
    {
     "data": {
      "text/html": [
       "<html>\\(\\displaystyle \\left(\\frac{8}{9},\\,\\frac{7}{3},\\,\\frac{14}{9}\\right)\\)</html>"
      ],
      "text/latex": [
       "$\\displaystyle \\left(\\frac{8}{9},\\,\\frac{7}{3},\\,\\frac{14}{9}\\right)$"
      ],
      "text/plain": [
       "(8/9, 7/3, 14/9)"
      ]
     },
     "metadata": {},
     "output_type": "display_data"
    }
   ],
   "source": [
    "solution = A.solve_right(b)\n",
    "show(solution)"
   ]
  },
  {
   "cell_type": "markdown",
   "id": "6aacd625-5b44-410e-bcc0-3eaa877f6a5c",
   "metadata": {},
   "source": [
    "Documentation:\n",
    "- [sage.matrix.constructor.matrixsage.matrix.constructor.matrix](https://doc.sagemath.org/html/en/reference/matrices/sage/matrix/constructor.html#sage.matrix.constructor.matrix)\n",
    "- [sage.modules.free_module_element.vector](https://doc.sagemath.org/html/en/reference/modules/sage/modules/free_module_element.html#sage.modules.free_module_element.vector)\n",
    "- [sage.matrix.matrix2.Matrix.solve_right](https://doc.sagemath.org/html/en/reference/matrices/sage/matrix/matrix2.html#sage.matrix.matrix2.Matrix.solve_right)"
   ]
  },
  {
   "cell_type": "markdown",
   "id": "1bed1c83-da16-4799-ba2c-c93890fa4cc2",
   "metadata": {},
   "source": [
    "### Augmented Matrices\n",
    "\n",
    "We can create an augmented matrix by adding the constants vector ($b$) to the matrix of coefficients ($A$)"
   ]
  },
  {
   "cell_type": "code",
   "execution_count": 4,
   "id": "53fe62d6-6e09-4322-9f55-c4881c5b9a2b",
   "metadata": {},
   "outputs": [
    {
     "data": {
      "text/html": [
       "<html>\\(\\displaystyle \\left(\\begin{array}{rrr|r}\n",
       "1 & 2 & -1 & 4 \\\\\n",
       "0 & 1 & 3 & 7 \\\\\n",
       "2 & -1 & 1 & 1\n",
       "\\end{array}\\right)\\)</html>"
      ],
      "text/latex": [
       "$\\displaystyle \\left(\\begin{array}{rrr|r}\n",
       "1 & 2 & -1 & 4 \\\\\n",
       "0 & 1 & 3 & 7 \\\\\n",
       "2 & -1 & 1 & 1\n",
       "\\end{array}\\right)$"
      ],
      "text/plain": [
       "[ 1  2 -1| 4]\n",
       "[ 0  1  3| 7]\n",
       "[ 2 -1  1| 1]"
      ]
     },
     "metadata": {},
     "output_type": "display_data"
    }
   ],
   "source": [
    "A_aug = A.augment(b, subdivide=True)\n",
    "show(A_aug)"
   ]
  },
  {
   "cell_type": "markdown",
   "id": "99409afa-dfde-403c-b599-025a3b4cc191",
   "metadata": {},
   "source": [
    "Documentation for [sage.matrix.matrix1.Matrix.augment](https://doc.sagemath.org/html/en/reference/matrices/sage/matrix/matrix1.html#sage.matrix.matrix1.Matrix.augment)"
   ]
  },
  {
   "cell_type": "markdown",
   "id": "e0c9d267-bff9-469f-bf06-f5bf9b44b5d9",
   "metadata": {},
   "source": [
    "### Reduced row echelon form (rref)\n",
    "\n",
    "We show the method to retrieve the rref before showing row operations to manually obtain the rref."
   ]
  },
  {
   "cell_type": "code",
   "execution_count": 5,
   "id": "d2742bbc-3b47-4d10-9014-4284c6300a1c",
   "metadata": {},
   "outputs": [
    {
     "data": {
      "text/html": [
       "<html>\\(\\displaystyle \\left(\\begin{array}{rrr|r}\n",
       "1 & 0 & 0 & \\frac{8}{9} \\\\\n",
       "0 & 1 & 0 & \\frac{7}{3} \\\\\n",
       "0 & 0 & 1 & \\frac{14}{9}\n",
       "\\end{array}\\right)\\)</html>"
      ],
      "text/latex": [
       "$\\displaystyle \\left(\\begin{array}{rrr|r}\n",
       "1 & 0 & 0 & \\frac{8}{9} \\\\\n",
       "0 & 1 & 0 & \\frac{7}{3} \\\\\n",
       "0 & 0 & 1 & \\frac{14}{9}\n",
       "\\end{array}\\right)$"
      ],
      "text/plain": [
       "[   1    0    0| 8/9]\n",
       "[   0    1    0| 7/3]\n",
       "[   0    0    1|14/9]"
      ]
     },
     "metadata": {},
     "output_type": "display_data"
    }
   ],
   "source": [
    "rref = A_aug.rref()\n",
    "show(rref)"
   ]
  },
  {
   "cell_type": "markdown",
   "id": "d48bd0ce-cab1-4061-9eee-af8c55776017",
   "metadata": {},
   "source": [
    "Documentation for [sage.matrix.matrix2.Matrix.rref](https://doc.sagemath.org/html/en/reference/matrices/sage/matrix/matrix2.html#sage.matrix.matrix2.Matrix.rref)"
   ]
  },
  {
   "cell_type": "markdown",
   "id": "7d56df0d-2ebd-4e42-a01b-7f1a443cb6f4",
   "metadata": {},
   "source": [
    "### Row operations\n",
    "\n",
    "The three basic row operations are:\n",
    "\n",
    "- Swap Rows\n",
    "- Rescale Rows\n",
    "- Add Multiple of Row\n",
    "\n",
    "Let's start with the augmented matrix:"
   ]
  },
  {
   "cell_type": "code",
   "execution_count": 6,
   "id": "11e0c508-1da9-4623-bb87-751e21db8b4d",
   "metadata": {},
   "outputs": [
    {
     "data": {
      "text/html": [
       "<html>\\(\\displaystyle \\left(\\begin{array}{rrr|r}\n",
       "1 & 2 & -1 & 4 \\\\\n",
       "0 & 1 & 3 & 7 \\\\\n",
       "2 & -1 & 1 & 1\n",
       "\\end{array}\\right)\\)</html>"
      ],
      "text/latex": [
       "$\\displaystyle \\left(\\begin{array}{rrr|r}\n",
       "1 & 2 & -1 & 4 \\\\\n",
       "0 & 1 & 3 & 7 \\\\\n",
       "2 & -1 & 1 & 1\n",
       "\\end{array}\\right)$"
      ],
      "text/plain": [
       "[ 1  2 -1| 4]\n",
       "[ 0  1  3| 7]\n",
       "[ 2 -1  1| 1]"
      ]
     },
     "metadata": {},
     "output_type": "display_data"
    }
   ],
   "source": [
    "show(A_aug)"
   ]
  },
  {
   "cell_type": "code",
   "execution_count": 7,
   "id": "e9e9de17-aa8a-47ae-a819-eae0a27aae31",
   "metadata": {},
   "outputs": [
    {
     "data": {
      "text/html": [
       "<html>\\(\\displaystyle \\left(\\begin{array}{rrr|r}\n",
       "1 & 2 & -1 & 4 \\\\\n",
       "0 & 1 & 3 & 7 \\\\\n",
       "0 & -5 & 3 & -7\n",
       "\\end{array}\\right)\\)</html>"
      ],
      "text/latex": [
       "$\\displaystyle \\left(\\begin{array}{rrr|r}\n",
       "1 & 2 & -1 & 4 \\\\\n",
       "0 & 1 & 3 & 7 \\\\\n",
       "0 & -5 & 3 & -7\n",
       "\\end{array}\\right)$"
      ],
      "text/plain": [
       "[ 1  2 -1| 4]\n",
       "[ 0  1  3| 7]\n",
       "[ 0 -5  3|-7]"
      ]
     },
     "metadata": {},
     "output_type": "display_data"
    }
   ],
   "source": [
    "# Row 3  <- Row 3 - 2*Row 1\n",
    "A_aug.add_multiple_of_row(2, 0, -2)\n",
    "show(A_aug)"
   ]
  },
  {
   "cell_type": "code",
   "execution_count": 8,
   "id": "73d5994b-cdfe-41ed-8b49-31186b8db6a6",
   "metadata": {},
   "outputs": [
    {
     "data": {
      "text/html": [
       "<html>\\(\\displaystyle \\left(\\begin{array}{rrr|r}\n",
       "1 & 2 & -1 & 4 \\\\\n",
       "0 & -5 & 3 & -7 \\\\\n",
       "0 & 1 & 3 & 7\n",
       "\\end{array}\\right)\\)</html>"
      ],
      "text/latex": [
       "$\\displaystyle \\left(\\begin{array}{rrr|r}\n",
       "1 & 2 & -1 & 4 \\\\\n",
       "0 & -5 & 3 & -7 \\\\\n",
       "0 & 1 & 3 & 7\n",
       "\\end{array}\\right)$"
      ],
      "text/plain": [
       "[ 1  2 -1| 4]\n",
       "[ 0 -5  3|-7]\n",
       "[ 0  1  3| 7]"
      ]
     },
     "metadata": {},
     "output_type": "display_data"
    }
   ],
   "source": [
    "# Row 3 <-> Row 2\n",
    "A_aug.swap_rows(1, 2)\n",
    "show(A_aug)"
   ]
  },
  {
   "cell_type": "code",
   "execution_count": 9,
   "id": "a89bbf09-a2da-4336-8dbb-573aa0582852",
   "metadata": {},
   "outputs": [
    {
     "data": {
      "text/html": [
       "<html>\\(\\displaystyle \\left(\\begin{array}{rrr|r}\n",
       "1 & 2 & -1 & 4 \\\\\n",
       "0 & -5 & 3 & -7 \\\\\n",
       "0 & -5 & -15 & -35\n",
       "\\end{array}\\right)\\)</html>"
      ],
      "text/latex": [
       "$\\displaystyle \\left(\\begin{array}{rrr|r}\n",
       "1 & 2 & -1 & 4 \\\\\n",
       "0 & -5 & 3 & -7 \\\\\n",
       "0 & -5 & -15 & -35\n",
       "\\end{array}\\right)$"
      ],
      "text/plain": [
       "[  1   2  -1|  4]\n",
       "[  0  -5   3| -7]\n",
       "[  0  -5 -15|-35]"
      ]
     },
     "metadata": {},
     "output_type": "display_data"
    }
   ],
   "source": [
    "# Row 3 <- -5*Row 3\n",
    "A_aug.rescale_row(2, -5)\n",
    "show(A_aug)"
   ]
  },
  {
   "cell_type": "markdown",
   "id": "261d547b-c35e-4cee-8a2a-e7ae3b38d497",
   "metadata": {},
   "source": [
    "... and so on\n",
    "\n",
    "See if you can complete the operations to achieve reduce row echelon form (rref).\n",
    "\n",
    "Each of these operations modify (mutate) the original matrix.  There are equivalent operations that leave the original matrix unchanged and return a new matrix.  These operations have _similar_ names, but have the prefix `with_`, e.g.\n",
    "\n",
    " - `swap_rows()` -> `with_swapped_rows()`\n",
    " - `rescale_row()` -> `with_rescaled_row()`\n",
    " - `add_multiple_of_row()` -> `with_added_multiple_of_row()`\n",
    "\n",
    "Documentation: [matrix0](https://doc.sagemath.org/html/en/reference/matrices/sage/matrix/matrix0.html)."
   ]
  },
  {
   "cell_type": "markdown",
   "id": "6f96413a-c2f4-42b1-b671-7bb036cc0074",
   "metadata": {},
   "source": [
    "### Gauss's method step-by-step automation\n",
    "\n",
    "The following code automates the gauss method outputting each step.\n",
    "\n",
    "\n",
    "Adapted from: [gaus_method.sage](https://gitlab.com/jim.hefferon/linear-algebra/-/blob/master/src/lab/gauss_method.sage)"
   ]
  },
  {
   "cell_type": "code",
   "execution_count": 10,
   "id": "091af08a-819f-4d8f-982a-01a7e4781ae6",
   "metadata": {},
   "outputs": [],
   "source": [
    "# Show Gauss's method and Gauss-Jordan reduction steps. \n",
    "# 2012-Apr-20  Jim Hefferon  Public Domain. \n",
    "# 2019-Nov-09 JH  Minor reformatting\n",
    "# 2021-Sep-22 JH  Adjust for Python3\n",
    "\n",
    "# Naive Gaussian reduction\n",
    "def gauss_method(M,rescale_leading_entry=False):\n",
    "    \"\"\"Describe the reduction to echelon form of the given matrix of \n",
    "    rationals.\n",
    "      M  matrix of rationals   e.g., M = matrix(QQ, [[..], [..], ..])\n",
    "      rescale_leading_entry=False  boolean  make leading entries to 1's\n",
    "    Returns: None.  Side effects: M is reduced, steps are printed.  \n",
    "    Note that this is echelon form, not reduced echelon form, and that \n",
    "    this routine does not end the same way as does M.echelon_form().\n",
    "    \"\"\"\n",
    "    num_rows=M.nrows()\n",
    "    num_cols=M.ncols()\n",
    "\n",
    "    print(\"Original matrix\\n\")\n",
    "    show(M)    \n",
    "\n",
    "    col = 0   # all cols before this are already done\n",
    "    for row in range(0,num_rows): \n",
    "        # Do we need to swap in a nonzero entry from below?\n",
    "        while (col < num_cols\n",
    "               and M[row][col] == 0): \n",
    "            for i in M.nonzero_positions_in_column(col):\n",
    "                if i > row:\n",
    "                    print(\"\\nswap row\", row+1, \"with row\", i+1, \"\\n\")\n",
    "                    M.swap_rows(row,i)\n",
    "                    show(M)\n",
    "                    break     \n",
    "            else:\n",
    "                col += 1\n",
    "\n",
    "        if col >= num_cols:\n",
    "            break\n",
    "       \n",
    "        # Now we are guaranteed M[row][col] != 0\n",
    "        if (rescale_leading_entry\n",
    "           and M[row][col] != 1):\n",
    "            print(\"\\ntake\", 1/M[row][col], \"times row\", row+1, \"\\n\")\n",
    "            M.rescale_row(row,1/M[row][col])\n",
    "            show(M)\n",
    "        change_flag=False\n",
    "        for changed_row in range(row+1,num_rows):\n",
    "            if M[changed_row][col] != 0:\n",
    "                change_flag=True\n",
    "                factor=-1*M[changed_row][col]/M[row][col]\n",
    "                print(\"\\ntake\", factor, \"times row\", row+1, \"plus row\", changed_row+1, \"\\n\")\n",
    "                M.add_multiple_of_row(changed_row,row,factor)\n",
    "        if change_flag:\n",
    "            show(M)\n",
    "        col +=1"
   ]
  },
  {
   "cell_type": "code",
   "execution_count": 11,
   "id": "bbea9f61-796e-480d-9b9a-c1586c8ac9f3",
   "metadata": {
    "scrolled": true
   },
   "outputs": [
    {
     "name": "stdout",
     "output_type": "stream",
     "text": [
      "Original matrix\n",
      "\n"
     ]
    },
    {
     "data": {
      "text/html": [
       "<html>\\(\\displaystyle \\left(\\begin{array}{rrr}\n",
       "1 & 2 & -1 \\\\\n",
       "0 & 1 & 3 \\\\\n",
       "2 & -1 & 1\n",
       "\\end{array}\\right)\\)</html>"
      ],
      "text/latex": [
       "$\\displaystyle \\left(\\begin{array}{rrr}\n",
       "1 & 2 & -1 \\\\\n",
       "0 & 1 & 3 \\\\\n",
       "2 & -1 & 1\n",
       "\\end{array}\\right)$"
      ],
      "text/plain": [
       "[ 1  2 -1]\n",
       "[ 0  1  3]\n",
       "[ 2 -1  1]"
      ]
     },
     "metadata": {},
     "output_type": "display_data"
    },
    {
     "name": "stdout",
     "output_type": "stream",
     "text": [
      "\n",
      "take -2 times row 1 plus row 3 \n",
      "\n"
     ]
    },
    {
     "data": {
      "text/html": [
       "<html>\\(\\displaystyle \\left(\\begin{array}{rrr}\n",
       "1 & 2 & -1 \\\\\n",
       "0 & 1 & 3 \\\\\n",
       "0 & -5 & 3\n",
       "\\end{array}\\right)\\)</html>"
      ],
      "text/latex": [
       "$\\displaystyle \\left(\\begin{array}{rrr}\n",
       "1 & 2 & -1 \\\\\n",
       "0 & 1 & 3 \\\\\n",
       "0 & -5 & 3\n",
       "\\end{array}\\right)$"
      ],
      "text/plain": [
       "[ 1  2 -1]\n",
       "[ 0  1  3]\n",
       "[ 0 -5  3]"
      ]
     },
     "metadata": {},
     "output_type": "display_data"
    },
    {
     "name": "stdout",
     "output_type": "stream",
     "text": [
      "\n",
      "take 5 times row 2 plus row 3 \n",
      "\n"
     ]
    },
    {
     "data": {
      "text/html": [
       "<html>\\(\\displaystyle \\left(\\begin{array}{rrr}\n",
       "1 & 2 & -1 \\\\\n",
       "0 & 1 & 3 \\\\\n",
       "0 & 0 & 18\n",
       "\\end{array}\\right)\\)</html>"
      ],
      "text/latex": [
       "$\\displaystyle \\left(\\begin{array}{rrr}\n",
       "1 & 2 & -1 \\\\\n",
       "0 & 1 & 3 \\\\\n",
       "0 & 0 & 18\n",
       "\\end{array}\\right)$"
      ],
      "text/plain": [
       "[ 1  2 -1]\n",
       "[ 0  1  3]\n",
       "[ 0  0 18]"
      ]
     },
     "metadata": {},
     "output_type": "display_data"
    }
   ],
   "source": [
    "A = matrix(QQ, 3, [1,2,-1,0,1,3,2,-1,1])\n",
    "\n",
    "gauss_method(A)"
   ]
  },
  {
   "cell_type": "code",
   "execution_count": null,
   "id": "f236709a-1a6f-4113-a594-3b62a905298a",
   "metadata": {},
   "outputs": [],
   "source": []
  }
 ],
 "metadata": {
  "kernelspec": {
   "display_name": "SageMath 10.3",
   "language": "sage",
   "name": "sagemath"
  },
  "language_info": {
   "codemirror_mode": {
    "name": "ipython",
    "version": 3
   },
   "file_extension": ".py",
   "mimetype": "text/x-python",
   "name": "python",
   "nbconvert_exporter": "python",
   "pygments_lexer": "ipython3",
   "version": "3.10.12"
  }
 },
 "nbformat": 4,
 "nbformat_minor": 5
}
