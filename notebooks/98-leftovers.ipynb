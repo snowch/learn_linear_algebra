{
 "cells": [
  {
   "cell_type": "markdown",
   "id": "81595dba-0c20-44b6-8c2c-3a06ad6167fa",
   "metadata": {},
   "source": [
    "### Least Squares"
   ]
  },
  {
   "cell_type": "code",
   "execution_count": 1,
   "id": "580c64ee-c1bb-4113-abe4-4e6d3812ca02",
   "metadata": {},
   "outputs": [
    {
     "name": "stdout",
     "output_type": "stream",
     "text": [
      "Least squares solution: [-6.   6.5]\n"
     ]
    }
   ],
   "source": [
    "from scipy.optimize import least_squares\n",
    "\n",
    "# Define the matrix A and vector b\n",
    "A = matrix([[1, 2], [3, 4], [5, 6]])\n",
    "b = vector([7, 8, 9])\n",
    "\n",
    "# Define a function representing the residual (the function to minimize)\n",
    "def residual(x):\n",
    "    return A * vector(x) - b\n",
    "\n",
    "# Initial guess for the solution\n",
    "x0 = [0, 0]  # You can adjust this according to your problem\n",
    "\n",
    "# Compute the least squares solution\n",
    "result = least_squares(residual, x0)\n",
    "\n",
    "print(\"Least squares solution:\", result.x)\n"
   ]
  },
  {
   "cell_type": "markdown",
   "id": "75d5a619-3531-4fca-b4b3-7a3339207261",
   "metadata": {},
   "source": [
    "### Distance"
   ]
  },
  {
   "cell_type": "code",
   "execution_count": 2,
   "id": "f84e4908-4e23-4b3a-ab5a-9599032454e0",
   "metadata": {},
   "outputs": [
    {
     "name": "stdout",
     "output_type": "stream",
     "text": [
      "Distance between v1 and v2: 5.196152422706632\n"
     ]
    }
   ],
   "source": [
    "from math import sqrt\n",
    "\n",
    "# Define the vectors\n",
    "v1 = vector([1, 2, 3])\n",
    "v2 = vector([4, 5, 6])\n",
    "\n",
    "# Calculate the squared differences\n",
    "squared_diff = sum((v1[i] - v2[i])**2 for i in range(len(v1)))\n",
    "\n",
    "# Calculate the distance\n",
    "distance = sqrt(squared_diff)\n",
    "\n",
    "print(\"Distance between v1 and v2:\", distance)\n"
   ]
  },
  {
   "cell_type": "markdown",
   "id": "13ea33b9-410d-423c-aa23-f6dc4b4ea836",
   "metadata": {},
   "source": [
    "### Transpose"
   ]
  },
  {
   "cell_type": "code",
   "execution_count": 3,
   "id": "2b49820b-5c92-4fd0-ae66-cae1585543d1",
   "metadata": {
    "scrolled": true
   },
   "outputs": [
    {
     "name": "stdout",
     "output_type": "stream",
     "text": [
      "Original row vector: (1, 2, 3)\n",
      "Transposed row vector: [1]\n",
      "[2]\n",
      "[3]\n",
      "Original column vector: [1]\n",
      "[2]\n",
      "[3]\n",
      "Transposed column vector: [1 2 3]\n"
     ]
    }
   ],
   "source": [
    "# Define a row vector\n",
    "row_vector = vector([1, 2, 3])\n",
    "\n",
    "# Transpose the row vector\n",
    "transposed_row_vector = matrix([row_vector]).transpose()\n",
    "\n",
    "print(\"Original row vector:\", row_vector)\n",
    "print(\"Transposed row vector:\", transposed_row_vector)\n",
    "\n",
    "# Define a column vector\n",
    "column_vector = column_matrix([1, 2, 3])\n",
    "\n",
    "# Transpose the column vector\n",
    "transposed_column_vector = column_vector.transpose()\n",
    "\n",
    "print(\"Original column vector:\", column_vector)\n",
    "print(\"Transposed column vector:\", transposed_column_vector)\n"
   ]
  },
  {
   "cell_type": "code",
   "execution_count": null,
   "id": "e3c703f7-a406-4e26-995e-8dcf76a51ea1",
   "metadata": {},
   "outputs": [],
   "source": []
  }
 ],
 "metadata": {
  "kernelspec": {
   "display_name": "SageMath 10.3",
   "language": "sage",
   "name": "sagemath"
  },
  "language_info": {
   "codemirror_mode": {
    "name": "ipython",
    "version": 3
   },
   "file_extension": ".py",
   "mimetype": "text/x-python",
   "name": "python",
   "nbconvert_exporter": "python",
   "pygments_lexer": "ipython3",
   "version": "3.10.12"
  }
 },
 "nbformat": 4,
 "nbformat_minor": 5
}
