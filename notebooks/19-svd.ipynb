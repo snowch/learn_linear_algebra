{
 "cells": [
  {
   "cell_type": "markdown",
   "id": "b5defbec-041b-4957-bb99-996335a9dcd2",
   "metadata": {},
   "source": [
    "Coming soon ..."
   ]
  },
  {
   "cell_type": "code",
   "execution_count": null,
   "id": "176db22c-d660-4237-92de-05b2d2fb3b9c",
   "metadata": {},
   "outputs": [],
   "source": []
  }
 ],
 "metadata": {
  "kernelspec": {
   "display_name": "SageMath 10.3",
   "language": "sage",
   "name": "sagemath"
  },
  "language_info": {
   "codemirror_mode": {
    "name": "ipython",
    "version": 3
   },
   "file_extension": ".py",
   "mimetype": "text/x-python",
   "name": "python",
   "nbconvert_exporter": "python",
   "pygments_lexer": "ipython3",
   "version": "3.10.12"
  }
 },
 "nbformat": 4,
 "nbformat_minor": 5
}
