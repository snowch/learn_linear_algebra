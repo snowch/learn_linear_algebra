{
 "cells": [
  {
   "cell_type": "markdown",
   "id": "b5defbec-041b-4957-bb99-996335a9dcd2",
   "metadata": {},
   "source": [
    "Let's break down Singular Value Decomposition (SVD) with SageMath to make it both intuitive and practical.\n",
    "\n",
    "**Conceptual Understanding of SVD**\n",
    "\n",
    "Think of SVD as a way to \"factorize\" a matrix into three simpler matrices. Just like you can factorize a number into primes, SVD decomposes a matrix into:\n",
    "\n",
    "1. **Singular Values (Σ):**  These are non-negative numbers, representing the \"magnitude\" or \"importance\" of each dimension in your data. They're arranged in decreasing order, so the largest singular value often captures the most significant feature in your matrix.\n",
    "2. **Left Singular Vectors (U):** These are orthonormal (perpendicular and unit length) vectors that span the column space of your original matrix. They tell you about the \"directions\" of the most important features.\n",
    "3. **Right Singular Vectors (V):** Also orthonormal, these vectors span the row space of your matrix. They give you information about how your original data points (rows) relate to the important features.\n",
    "\n",
    "The key equation:\n",
    "\n",
    "A = UΣVᵀ \n",
    "\n",
    "(where A is your original matrix)\n",
    "\n",
    "**Geometric Intuition**\n",
    "\n",
    "Imagine your matrix represents data points in a high-dimensional space. SVD helps you:\n",
    "\n",
    "1. Find the principal axes (directions of greatest variance) in this space – these are given by the singular vectors.\n",
    "2. Stretch or compress the space along these axes based on the singular values.\n",
    "3. Rotate the axes to align with the original coordinate system.\n",
    "\n",
    "**SageMath Examples**\n",
    "\n",
    "Let's use SageMath to illustrate these concepts."
   ]
  },
  {
   "cell_type": "code",
   "execution_count": 1,
   "id": "37759009-3a19-4613-87bb-bafafe7c5486",
   "metadata": {},
   "outputs": [
    {
     "name": "stdout",
     "output_type": "stream",
     "text": [
      "Matrix A:\n",
      "\n"
     ]
    },
    {
     "data": {
      "text/html": [
       "<html>\\(\\displaystyle \\left(\\begin{array}{rrr}\n",
       "-0.076 & 0.43 & -0.080 \\\\\n",
       "-0.093 & 0.14 & 0.78 \\\\\n",
       "0.45 & 0.97 & 0.84 \\\\\n",
       "0.60 & 0.52 & 0.43\n",
       "\\end{array}\\right)\\)</html>"
      ],
      "text/latex": [
       "$\\displaystyle \\left(\\begin{array}{rrr}\n",
       "-0.076 & 0.43 & -0.080 \\\\\n",
       "-0.093 & 0.14 & 0.78 \\\\\n",
       "0.45 & 0.97 & 0.84 \\\\\n",
       "0.60 & 0.52 & 0.43\n",
       "\\end{array}\\right)$"
      ],
      "text/plain": [
       "[-0.076   0.43 -0.080]\n",
       "[-0.093   0.14   0.78]\n",
       "[  0.45   0.97   0.84]\n",
       "[  0.60   0.52   0.43]"
      ]
     },
     "metadata": {},
     "output_type": "display_data"
    },
    {
     "name": "stdout",
     "output_type": "stream",
     "text": [
      "\n",
      "Left Singular Vectors (U):\n",
      "\n"
     ]
    },
    {
     "data": {
      "text/html": [
       "<html>\\(\\displaystyle \\left(\\begin{array}{rrrr}\n",
       "0.12 & -0.36 & 0.78 & 0.50 \\\\\n",
       "0.33 & 0.86 & 0.11 & 0.36 \\\\\n",
       "0.79 & -0.096 & 0.20 & -0.56 \\\\\n",
       "0.49 & -0.34 & -0.58 & 0.54\n",
       "\\end{array}\\right)\\)</html>"
      ],
      "text/latex": [
       "$\\displaystyle \\left(\\begin{array}{rrrr}\n",
       "0.12 & -0.36 & 0.78 & 0.50 \\\\\n",
       "0.33 & 0.86 & 0.11 & 0.36 \\\\\n",
       "0.79 & -0.096 & 0.20 & -0.56 \\\\\n",
       "0.49 & -0.34 & -0.58 & 0.54\n",
       "\\end{array}\\right)$"
      ],
      "text/plain": [
       "[  0.12  -0.36   0.78   0.50]\n",
       "[  0.33   0.86   0.11   0.36]\n",
       "[  0.79 -0.096   0.20  -0.56]\n",
       "[  0.49  -0.34  -0.58   0.54]"
      ]
     },
     "metadata": {},
     "output_type": "display_data"
    },
    {
     "name": "stdout",
     "output_type": "stream",
     "text": [
      "\n",
      "Singular Values (S) (diagonal of Σ):\n",
      "\n"
     ]
    },
    {
     "data": {
      "text/html": [
       "<html>\\(\\displaystyle \\left(\\begin{array}{rrr}\n",
       "1.7 & 0.00 & 0.00 \\\\\n",
       "0.00 & 0.64 & 0.00 \\\\\n",
       "0.00 & 0.00 & 0.41 \\\\\n",
       "0.00 & 0.00 & 0.00\n",
       "\\end{array}\\right)\\)</html>"
      ],
      "text/latex": [
       "$\\displaystyle \\left(\\begin{array}{rrr}\n",
       "1.7 & 0.00 & 0.00 \\\\\n",
       "0.00 & 0.64 & 0.00 \\\\\n",
       "0.00 & 0.00 & 0.41 \\\\\n",
       "0.00 & 0.00 & 0.00\n",
       "\\end{array}\\right)$"
      ],
      "text/plain": [
       "[ 1.7 0.00 0.00]\n",
       "[0.00 0.64 0.00]\n",
       "[0.00 0.00 0.41]\n",
       "[0.00 0.00 0.00]"
      ]
     },
     "metadata": {},
     "output_type": "display_data"
    },
    {
     "name": "stdout",
     "output_type": "stream",
     "text": [
      "\n",
      "Right Singular Vectors (V):\n",
      "\n"
     ]
    },
    {
     "data": {
      "text/html": [
       "<html>\\(\\displaystyle \\left(\\begin{array}{rrr}\n",
       "0.36 & -0.48 & -0.80 \\\\\n",
       "0.66 & -0.48 & 0.58 \\\\\n",
       "0.66 & 0.74 & -0.14\n",
       "\\end{array}\\right)\\)</html>"
      ],
      "text/latex": [
       "$\\displaystyle \\left(\\begin{array}{rrr}\n",
       "0.36 & -0.48 & -0.80 \\\\\n",
       "0.66 & -0.48 & 0.58 \\\\\n",
       "0.66 & 0.74 & -0.14\n",
       "\\end{array}\\right)$"
      ],
      "text/plain": [
       "[ 0.36 -0.48 -0.80]\n",
       "[ 0.66 -0.48  0.58]\n",
       "[ 0.66  0.74 -0.14]"
      ]
     },
     "metadata": {},
     "output_type": "display_data"
    }
   ],
   "source": [
    "import numpy as np\n",
    "from sage.all import *\n",
    "\n",
    "# Create a random matrix (you can use your own data here)\n",
    "A = random_matrix(RDF, 4, 3)  \n",
    "print(\"Matrix A:\\n\")\n",
    "show(A.n(digits=2))\n",
    "\n",
    "# Compute the SVD\n",
    "U, S, V = A.SVD() \n",
    "\n",
    "print(\"\\nLeft Singular Vectors (U):\\n\")\n",
    "show(U.n(digits=2))\n",
    "print(\"\\nSingular Values (S) (diagonal of Σ):\\n\")\n",
    "show(S.n(digits=2))\n",
    "print(\"\\nRight Singular Vectors (V):\\n\")\n",
    "show(V.n(digits=2))"
   ]
  },
  {
   "cell_type": "markdown",
   "id": "54eeef7e-fa62-40bc-9527-09378f455cda",
   "metadata": {},
   "source": [
    "\n",
    "**Explanation of the Code**\n",
    "1. The code begins by importing necessary libraries: `numpy` for numerical operations and `sage.all` for SageMath functionality.\n",
    "2. It generates a random matrix `A` with dimensions 4x3 using the `random_matrix` function from SageMath's `RDF` (real double field).\n",
    "3. The singular value decomposition (SVD) of the matrix `A` is computed using the `SVD()` method.\n",
    "4. The results of the SVD are stored in the variables `U`, `S`, and `V`, representing the left singular vectors, singular values, and right singular vectors, respectively.\n",
    "5. The script prints the original matrix `A`, followed by the left singular vectors `U`, singular values `S` (as the diagonal elements of the diagonal matrix Σ), and right singular vectors `V`.\n",
    "\n",
    "**Applications of SVD**\n",
    "\n",
    "* **Dimensionality Reduction:**  Keep only the top k singular values/vectors to approximate your data with fewer dimensions (Principal Component Analysis – PCA).\n"
   ]
  },
  {
   "cell_type": "code",
   "execution_count": 2,
   "id": "b4a42ebb-ba40-4aa2-91f2-816c27009644",
   "metadata": {},
   "outputs": [
    {
     "name": "stdout",
     "output_type": "stream",
     "text": [
      "\n",
      "Reduced Matrix (k=2):\n",
      "\n"
     ]
    },
    {
     "data": {
      "text/html": [
       "<html>\\(\\displaystyle \\left(\\begin{array}{rrr}\n",
       "-0.078 & 0.014 & -0.29 \\\\\n",
       "0.57 & -0.54 & -0.14 \\\\\n",
       "0.45 & -0.62 & -1.1 \\\\\n",
       "0.16 & -0.30 & -0.80\n",
       "\\end{array}\\right)\\)</html>"
      ],
      "text/latex": [
       "$\\displaystyle \\left(\\begin{array}{rrr}\n",
       "-0.078 & 0.014 & -0.29 \\\\\n",
       "0.57 & -0.54 & -0.14 \\\\\n",
       "0.45 & -0.62 & -1.1 \\\\\n",
       "0.16 & -0.30 & -0.80\n",
       "\\end{array}\\right)$"
      ],
      "text/plain": [
       "[-0.078  0.014  -0.29]\n",
       "[  0.57  -0.54  -0.14]\n",
       "[  0.45  -0.62   -1.1]\n",
       "[  0.16  -0.30  -0.80]"
      ]
     },
     "metadata": {},
     "output_type": "display_data"
    }
   ],
   "source": [
    "k = 2\n",
    "A_k = U[:, :k] * S[:k, :k] * V[:k, :]\n",
    "print(\"\\nReduced Matrix (k=2):\\n\")\n",
    "show(A_k.n(digits=2))"
   ]
  },
  {
   "cell_type": "markdown",
   "id": "3a632fb5-2229-4615-afbb-a7722129c7be",
   "metadata": {},
   "source": [
    "* **Image Compression:**  Store only the largest singular values and corresponding vectors to compress an image.\n",
    "* **Recommender Systems:**  Use SVD to factorize user-item ratings matrices, filling in missing ratings.\n",
    "\n",
    "**SageMath Visualization**"
   ]
  },
  {
   "cell_type": "code",
   "execution_count": 3,
   "id": "9e994867-b1d5-4056-b721-af9e1620636b",
   "metadata": {},
   "outputs": [
    {
     "data": {
      "image/png": "[encoded data removed]",
      "text/plain": [
       "<Figure size 640x480 with 1 Axes>"
      ]
     },
     "metadata": {},
     "output_type": "display_data"
    }
   ],
   "source": [
    "import matplotlib.pyplot as plt\n",
    "\n",
    "# Plot singular values\n",
    "plt.plot(S, 'ro')\n",
    "plt.title('Singular Values')\n",
    "plt.show()"
   ]
  },
  {
   "cell_type": "markdown",
   "id": "1e9c9c30-c340-4a11-8f36-cbe142f9a62c",
   "metadata": {},
   "source": [
    "This visualization shows you a simple line plot where:\n",
    "\n",
    "- The x-axis represents the index of each singular value (e.g., 1, 2, 3...).\n",
    "- The y-axis represents the magnitude of each singular value.\n",
    "\n",
    "**Interpreting the Plot**\n",
    "\n",
    "The plot helps you visualize the following:\n",
    "\n",
    "- **Relative Importance:** The height of each red circle indicates the importance or \"strength\" of the corresponding feature or dimension captured by the singular value. Higher circles mean more significant features.\n",
    "- **Decay:** Typically, singular values decay rapidly. This means the first few singular values are much larger than the later ones, suggesting that most of the information in your original matrix is captured by just a few dimensions.\n",
    "\n",
    "**Why Visualize Singular Values?**\n",
    "\n",
    "This visualization is helpful for:\n",
    "\n",
    "- **Dimensionality Reduction:** You can visually decide how many singular values (and their corresponding vectors) to keep for dimensionality reduction techniques like PCA.\n",
    "- **Understanding Data Structure:** The plot gives you insight into the underlying structure of your data – how many dominant features there are and how quickly the importance of features diminishes."
   ]
  },
  {
   "cell_type": "markdown",
   "id": "67d52de1-75dd-4ba9-9fd9-6390ba1c0d99",
   "metadata": {},
   "source": [
    "### Understanding Principal Component Analysis\n",
    "\n",
    "PCA is a powerful technique for dimensionality reduction. It simplifies complex datasets by transforming them into a new set of variables, called principal components (PCs). These PCs are ordered by the amount of variance they explain in the original data.\n",
    "\n",
    "* **Goal:**\n",
    "    * To find the directions (principal components) along which our data varies the most.\n",
    "    * To reduce the number of variables while retaining as much information as possible.\n",
    "\n",
    "* **Key Ideas:**\n",
    "    * Variance: PCA aims to maximize the variance captured by each PC.\n",
    "    * Orthogonality: PCs are uncorrelated (orthogonal) to each other.\n",
    "    * Dimensionality Reduction: We can often represent the data well using only a few PCs.\n",
    "\n",
    "**SageMath Example and Code**\n"
   ]
  },
  {
   "cell_type": "code",
   "execution_count": 4,
   "id": "ed06b5d4-1d29-462e-82e0-6b0c50ebbbb6",
   "metadata": {
    "scrolled": true
   },
   "outputs": [
    {
     "data": {
      "image/png": "[encoded data removed]",
      "text/plain": [
       "Graphics object consisting of 4 graphics primitives"
      ]
     },
     "metadata": {},
     "output_type": "display_data"
    }
   ],
   "source": [
    "import numpy as np\n",
    "from sage.plot.scatter_plot import scatter_plot\n",
    "\n",
    "# Generate some sample data\n",
    "np.random.seed(42)\n",
    "mean = [int(2), int(3)]\n",
    "cov = [[int(2), int(1)], [int(1), int(3)]]\n",
    "data = np.random.multivariate_normal(mean, cov, int(100))\n",
    "\n",
    "# Plot the original data\n",
    "scatter = scatter_plot(data.tolist(), rgbcolor=(0, 0, 1)) # blue\n",
    "\n",
    "# Center the data (subtract the mean)\n",
    "centered_data = data - np.mean(data, axis=0)\n",
    "\n",
    "# Compute the covariance matrix\n",
    "cov_matrix = np.cov(centered_data, rowvar=False)\n",
    "\n",
    "# Compute the eigenvalues and eigenvectors\n",
    "eigenvalues, eigenvectors = np.linalg.eig(cov_matrix)\n",
    "\n",
    "# Sort eigenvalues and eigenvectors in descending order\n",
    "idx = eigenvalues.argsort()[::-1]\n",
    "eigenvalues = eigenvalues[idx]\n",
    "eigenvectors = eigenvectors[:, idx]\n",
    "\n",
    "# Project the data onto the principal components\n",
    "projected_data = centered_data @ eigenvectors\n",
    "\n",
    "# Plot the principal components\n",
    "pc1 = eigenvectors[:, 0]\n",
    "pc2 = eigenvectors[:, 1]\n",
    "scatter += scatter_plot([[0, 0], list(pc1)], rgbcolor=(1, 0, 0)) # red\n",
    "scatter += scatter_plot([[0, 0], list(pc2)], rgbcolor=(0, 1, 0)) # green\n",
    "\n",
    "# Plot the projected data\n",
    "scatter += scatter_plot(projected_data.tolist(), rgbcolor=(0.5, 0, 0.5)) # purple\n",
    "\n",
    "# Show the plot\n",
    "scatter.show(aspect_ratio=1, gridlines=True)\n"
   ]
  },
  {
   "cell_type": "markdown",
   "id": "ad51abf4-8257-4eee-8051-4880b66d0b97",
   "metadata": {},
   "source": [
    "**Explanation:**\n",
    "\n",
    "1. **Generate and plot original data:** Create a 2D dataset and plot the original points.\n",
    "2. **Center the data:** Subtract the mean from each data point.\n",
    "3. **Compute covariance matrix:**  This matrix captures the relationships between the variables.\n",
    "4. **Eigenvalues and eigenvectors:** Eigenvalues tell us the amount of variance explained by each PC. Eigenvectors give us the directions of the PCs.\n",
    "5. **Project data:**  Transform the data into the PC space.\n",
    "6. **Plot PCs:** Plot the first two principal components as vectors from the origin.\n",
    "7. **Plot projected data:** Plot the transformed data points in the new PC space.\n",
    "\n",
    "**Visualizations**\n",
    "\n",
    "The plot produced by this code will show:\n",
    "\n",
    "* **Original data:** Blue points representing the original dataset.\n",
    "* **Principal components:** Red and green vectors representing the first two PCs.\n",
    "* **Projected data:** Purple points showing how the original data looks when projected onto the PCs.\n",
    "\n",
    "This visualization helps you see how PCA finds the directions of maximum variance in your data and how the data can be represented in fewer dimensions."
   ]
  },
  {
   "cell_type": "code",
   "execution_count": null,
   "id": "0408b622-0c83-461b-89ca-137d37f58374",
   "metadata": {},
   "outputs": [],
   "source": []
  }
 ],
 "metadata": {
  "kernelspec": {
   "display_name": "SageMath 10.3",
   "language": "sage",
   "name": "sagemath"
  },
  "language_info": {
   "codemirror_mode": {
    "name": "ipython",
    "version": 3
   },
   "file_extension": ".py",
   "mimetype": "text/x-python",
   "name": "python",
   "nbconvert_exporter": "python",
   "pygments_lexer": "ipython3",
   "version": "3.10.12"
  }
 },
 "nbformat": 4,
 "nbformat_minor": 5
}
