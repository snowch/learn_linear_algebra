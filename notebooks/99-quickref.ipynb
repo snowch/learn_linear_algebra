{
 "cells": [
  {
   "cell_type": "markdown",
   "id": "bcf0718b-e31e-4154-beaa-c75c25a3cba6",
   "metadata": {},
   "source": [
    "### Introduction\n",
    "\n",
    "We have covered many of the topics in the following resources. \n",
    "\n",
    "Quick Reference:\n",
    "\n",
    "- [SageMath Linalg Quick Reference](https://wiki.sagemath.org/quickref?action=AttachFile&do=get&target=quickref-linalg.pdf)\n",
    "\n",
    "Tutorials:\n",
    "\n",
    "- [SageMath Tour Linalg Tutorial](https://doc.sagemath.org/html/en/tutorial/tour_linalg.html)\n",
    "- [Sage Quickstart for Linear Algebra](https://doc.sagemath.org/html/en/prep/Quickstarts/Linear-Algebra.html)"
   ]
  },
  {
   "cell_type": "code",
   "execution_count": null,
   "id": "82453acd-b89e-47fa-bbda-3b9e0c92b2f9",
   "metadata": {},
   "outputs": [],
   "source": []
  }
 ],
 "metadata": {
  "kernelspec": {
   "display_name": "SageMath 10.3",
   "language": "sage",
   "name": "sagemath"
  },
  "language_info": {
   "codemirror_mode": {
    "name": "ipython",
    "version": 3
   },
   "file_extension": ".py",
   "mimetype": "text/x-python",
   "name": "python",
   "nbconvert_exporter": "python",
   "pygments_lexer": "ipython3",
   "version": "3.10.12"
  }
 },
 "nbformat": 4,
 "nbformat_minor": 5
}
