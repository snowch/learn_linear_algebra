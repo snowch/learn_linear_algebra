{
 "cells": [
  {
   "cell_type": "markdown",
   "metadata": {},
   "source": [
    "### Course Objectives\n",
    "\n",
    "In this workshop, we will learn the basics of Linear Algebra by being hands-on - only basic math knowledge required!!\n",
    "\n",
    "I created this workshop as revision notes while I was learning Linear Algebra, but it may be useful for students who prefer to get hands-on with concepts before jumping deep into theory.\n",
    "\n",
    "If you like this project, please give it a [star](https://github.com/snowch/learn_linear_algebra) on Github."
   ]
  },
  {
   "cell_type": "markdown",
   "metadata": {
    "jp-MarkdownHeadingCollapsed": true
   },
   "source": [
    "### How to run the notebooks\n",
    "\n",
    "**View:** to view the notebooks, you can [start here](https://nbviewer.org/github/snowch/learn_linear_algebra/tree/master/notebooks/)\n",
    "\n",
    "**Interact:** If you would like an interactive environment to experiment with the notebook code, you can run then online for free [here](https://mybinder.org/v2/gh/snowch/learn_linear_algebra/master?labpath=00-start-here.ipynb)\n",
    "\n",
    "Notes for the interactive environment:\n",
    "\n",
    "- it may take about 5 mins to launch the environment\n",
    "- notebook state is not persisted - anything you add is lost when the notebook session closes\n",
    "- the notebooks have an inactivity timeout of 10 mins after which the session closes\n"
   ]
  },
  {
   "cell_type": "markdown",
   "metadata": {
    "jp-MarkdownHeadingCollapsed": true
   },
   "source": [
    "### Feedback\n",
    "\n",
    "If after following this workshop you feel that the objectives haven't been achieved, please [email me](mailto:chsnow123@gmail.com) with your feedback."
   ]
  },
  {
   "cell_type": "markdown",
   "metadata": {},
   "source": [
    "### Pre-requisites\n",
    "\n",
    "You should have basic Python knowledge and be familiar with using Jupyter Notebooks.  If not, the following free hands-on workshops are recommended:\n",
    "\n",
    " - [Python 101](https://hackshack.hpedev.io/workshop/15)\n",
    " - [Jupyter Notebooks 101](https://hackshack.hpedev.io/workshop/25)\n"
   ]
  },
  {
   "cell_type": "markdown",
   "metadata": {},
   "source": [
    "\n",
    "### Contents"
   ]
  },
  {
   "cell_type": "markdown",
   "metadata": {},
   "source": [
    "| Notebook      | Description |\n",
    "| ----------- | ----------- |\n",
    "| [01 Vectors](./01-vectors.ipynb) | Learn the fundamentals of working with vectors, including vector addition, scalar multiplication, and vector operations in geometric and algebraic contexts. |\n",
    "| [02 Matrices](./02-matrices.ipynb) | Explore matrices, their properties, and operations such as addition, multiplication, and inversion. Understand how matrices are used to represent linear transformations. |\n",
    "| [03 Gauss Method](./03-gauss-method.ipynb) | Learn about the Gaussian elimination method for solving systems of linear equations and transforming matrices into reduced row-echelon form. |\n",
    "| [04 Solution Sets](./04-solution-sets.ipynb) | Investigate solution sets of linear systems, including unique solutions, infinite solutions and no solutions. |\n",
    "| [05 Vector Spaces](./05-vector-spaces.ipynb) | Study vector spaces, their properties, and examples from various fields. Explore concepts such as linear independence, spanning sets, and basis vectors. |\n",
    "| [06 Linear Dependence](./06-linear-dependence.ipynb) | Understand the concept of linear dependence and independence among vectors and its implications for vector spaces and systems of equations. |\n",
    "| [07 Span](./07-span.ipynb) | Study the span of a set of vectors, which represents all possible linear combinations of those vectors. Understand its connection to subspaces and basis vectors. |\n",
    "| [08 Basis](./08-basis.ipynb) | Learn about basis vectors, which form the building blocks for vector spaces. Understand how basis vectors can be used to represent other vectors uniquely. |\n",
    "| [09 Subspaces](./09-subspaces.ipynb) | Explore subspaces of vector spaces, including their definitions, properties, and examples, such as column spaces, row spaces, and null spaces. |\n",
    "| [10 Homogenous Linear Systems](./10-homogenous-ls.ipynb) | Investigate homogeneous linear systems, which have solutions that form vector spaces. Understand their relationship to null spaces and the nullity of matrices. |\n",
    "| [11 MatrixSpaces](./11-matrixspaces.ipynb) | Explore spaces of matrices, including their properties, dimensions, and relationships to vector spaces. |\n",
    "| [12 Linear Transformations](./12-transformations.ipynb) | Study linear transformations, which are functions that preserve vector addition and scalar multiplication. Understand their properties and geometric interpretations. |\n",
    "| [13 Null Spaces and Column Spaces](./13-nullspaces.ipynb) | Investigate the relationship between the null space and the column space of a matrix, as well as their dimensions and properties. |\n",
    "| [14 Projections](./14-projections.ipynb) | Explore projections of vectors onto subspaces, including orthogonal and non-orthogonal projections. Understand their applications in various fields. |\n",
    "| [15 Orthogonality](./15-orthogonality.ipynb) | Study orthogonality between vectors and subspaces, including orthogonal complements and orthogonal bases. Understand its significance in geometry and linear algebra. |\n",
    "| [16 Determinants](./16-determinants.ipynb) | Define determinants, explain their geometric interpretation, and show how to compute them. Understand their role in determining properties of matrices and their applications. |\n",
    "| [17 Eigenvalues and Eigenvectors](./17-eigenvalues.ipynb) | Introduce the concept of eigenvalues and eigenvectors, their geometric interpretation, and their computation. Understand their significance in diagonalizing matrices and solving systems of differential equations. |\n"
   ]
  },
  {
   "cell_type": "markdown",
   "metadata": {},
   "source": [
    "### License\n",
    "\n",
    "<a href=\"https://creativecommons.org/licenses/by-nc-sa/4.0/\">\n",
    "  <img src=\"https://mirrors.creativecommons.org/presskit/buttons/88x31/png/by-nc-sa.png\" alt=\"CC BY-NC-SA\" width=\"88\" height=\"32\">\n",
    "</a>"
   ]
  },
  {
   "cell_type": "markdown",
   "metadata": {},
   "source": [
    "### Source\n",
    "\n",
    "https://github.com/snowch/learn_linear_algebra"
   ]
  },
  {
   "cell_type": "code",
   "execution_count": null,
   "metadata": {},
   "outputs": [],
   "source": []
  }
 ],
 "metadata": {
  "kernelspec": {
   "display_name": "Python 3 (ipykernel)",
   "language": "python",
   "name": "python3"
  },
  "language_info": {
   "codemirror_mode": {
    "name": "ipython",
    "version": 3
   },
   "file_extension": ".py",
   "mimetype": "text/x-python",
   "name": "python",
   "nbconvert_exporter": "python",
   "pygments_lexer": "ipython3",
   "version": "3.10.12"
  }
 },
 "nbformat": 4,
 "nbformat_minor": 4
}
