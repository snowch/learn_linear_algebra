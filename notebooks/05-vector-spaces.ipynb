{
 "cells": [
  {
   "cell_type": "markdown",
   "id": "81f4b59e-2c89-4777-91b1-ff28c41064be",
   "metadata": {},
   "source": [
    "### Basic Introduction to Vector Spaces"
   ]
  },
  {
   "cell_type": "markdown",
   "id": "2d678ffb-60b4-46d3-8b10-6132cfe29928",
   "metadata": {},
   "source": [
    "\n",
    "<div style=\"background-color:yellow; padding: 5px 10px 0px 10px; border: 1px solid black;\">\n",
    "    \n",
    "**Definition**\n",
    "    \n",
    "In mathematics, a **vector space** is a structure made up of a set of vectors, that can be added together and scaled by numbers called scalars. These vectors and scalars must satisfy certain properties, including associativity, commutativity, and the existence of an additive identity and additive inverses.\n",
    "\n",
    "In simpler terms, a vector space provides a framework for manipulating and studying collections of objects that can be combined and stretched without losing their essential properties.\n",
    "\n",
    "For those interested, the basic mathematical\n",
    "properties can be found on [Wikipedia](https://en.wikipedia.org/wiki/Vector_space#Definition_and_basic_properties)\n",
    "</div>"
   ]
  },
  {
   "cell_type": "markdown",
   "id": "e42530df-48e1-4172-825d-d4daaa9f8cda",
   "metadata": {},
   "source": [
    "In SageMath, we can work with vector spaces to perform operations on vectors in a structured and consistent manner."
   ]
  },
  {
   "cell_type": "code",
   "execution_count": 1,
   "id": "b05c6338-8fd7-4010-862d-0e74636337b4",
   "metadata": {},
   "outputs": [],
   "source": [
    "# Define a vector space over the rational numbers of dimension 3\n",
    "V = VectorSpace(QQ, 3)\n",
    "\n",
    "# Define two vectors in the vector space\n",
    "v = V([1, 2, 3])  # Define a vector [1, 2, 3]\n",
    "w = V([4, 5, 6])  # Define another vector [4, 5, 6]\n",
    "\n",
    "# Vector addition\n",
    "u = v + w"
   ]
  },
  {
   "cell_type": "markdown",
   "id": "d466abdd-abea-4fff-839a-d7a121ba2b76",
   "metadata": {},
   "source": [
    "Try changing the VectorSpace dimension to 2 and see what happens."
   ]
  },
  {
   "cell_type": "markdown",
   "id": "4612f63b-ce5f-42b3-a91f-1c5ee082cfbc",
   "metadata": {},
   "source": [
    "Here's how the vector space concept helps us in this example:\n",
    "\n",
    "1. **Rigorous Definition**: By defining `V` as a vector space over the rational numbers (`QQ`) of dimension 3, we establish a clear mathematical structure for our vectors. This ensures that operations like addition and scalar multiplication adhere to the properties of vector spaces.\n",
    "\n",
    "2. **Consistent Operations**: When we perform vector addition `u = v + w`, SageMath ensures that the addition is carried out element-wise, respecting the rules of vector addition defined in the vector space. This guarantees consistency and correctness in our computations.\n",
    "\n",
    "3. **Type Safety**: By encapsulating vectors within the vector space `V`, we ensure type safety. That is, `v` and `w` are recognized as elements of the vector space `V`, preventing unintended operations or errors that may arise from mixing vectors from different spaces.\n",
    "\n",
    "4. **Abstraction**: We can perform vector operations without needing to worry about the specific underlying representation of vectors. This abstraction allows us to work with vectors in a general and flexible manner, facilitating code reuse and scalability.\n",
    "\n",
    "5. **Scalability**: Vector spaces in SageMath can handle vectors of arbitrary dimension and over various fields (e.g., real numbers, rational numbers). This scalability enables us to work with vectors in high-dimensional spaces and in different mathematical contexts with ease.\n",
    "\n",
    "In summary, leveraging the vector space concept in SageMath provides a solid foundation for performing vector operations, ensuring correctness, consistency, and abstraction in our computations."
   ]
  },
  {
   "cell_type": "markdown",
   "id": "8fa5289c-011b-456e-9014-a90a13995b81",
   "metadata": {},
   "source": [
    "### Testing if a Vector is in a VectorSpace"
   ]
  },
  {
   "cell_type": "markdown",
   "id": "db86293a-a419-4862-b595-24a7b7c12bc8",
   "metadata": {},
   "source": [
    "Think of a vector space as a place with specific rules for how its elements interact. Testing if a vector belongs in that space is like checking if it follows those rules. This is important because it ensures the vector can seamlessly interact with the others in the space, without disrupting the underlying structure. If it doesn't follow the rules, it's like trying to force a square peg into a round hole – it won't fit, and it could cause problems."
   ]
  },
  {
   "cell_type": "code",
   "execution_count": 2,
   "id": "c8d7d011-26e7-4c38-9aed-71c1d72119f9",
   "metadata": {},
   "outputs": [
    {
     "data": {
      "text/plain": [
       "True"
      ]
     },
     "execution_count": 2,
     "metadata": {},
     "output_type": "execute_result"
    }
   ],
   "source": [
    "V = VectorSpace(QQ, 3)\n",
    "v = vector(RR, [1,2,3])\n",
    "v in V"
   ]
  },
  {
   "cell_type": "markdown",
   "id": "55538581-880c-4b93-9680-c8323d885350",
   "metadata": {},
   "source": [
    "In the above example, `v in V` evaluates to `True` because although `v` is defined over the real numbers (`RR`), it is considered a valid member of the vector space `V`, which is defined over the rational numbers (`QQ`). SageMath handles this type conversion implicitly when checking for membership."
   ]
  },
  {
   "cell_type": "code",
   "execution_count": 3,
   "id": "56d9c0c0-92aa-4e8c-9373-42b74aff17ec",
   "metadata": {},
   "outputs": [
    {
     "data": {
      "text/plain": [
       "False"
      ]
     },
     "execution_count": 3,
     "metadata": {},
     "output_type": "execute_result"
    }
   ],
   "source": [
    "V = VectorSpace(QQ, 3)\n",
    "v = vector(CC, [1,2,3])\n",
    "v in V"
   ]
  },
  {
   "cell_type": "markdown",
   "id": "a2f2a68f-bf21-4508-94ba-950ab8ca2faa",
   "metadata": {},
   "source": [
    "In the above example, `v in V` evaluates to `False` because `v` is defined over a different field (complex numbers) than the one specified for the vector space `V` (rational numbers)."
   ]
  },
  {
   "cell_type": "code",
   "execution_count": 4,
   "id": "326fa69c-8e73-44a0-a2a6-a193498b2516",
   "metadata": {},
   "outputs": [
    {
     "data": {
      "text/plain": [
       "False"
      ]
     },
     "execution_count": 4,
     "metadata": {},
     "output_type": "execute_result"
    }
   ],
   "source": [
    "V = VectorSpace(QQ, 3)\n",
    "v = vector(QQ, [1,2,3,4])\n",
    "v in V"
   ]
  },
  {
   "cell_type": "markdown",
   "id": "27f209c9-776c-4698-940f-aa7394ceeba2",
   "metadata": {},
   "source": [
    "In the above example, `v in V` evaluates to `False` because the dimension of `v` is different from the dimension specified for the vector space `V`."
   ]
  },
  {
   "cell_type": "code",
   "execution_count": 5,
   "id": "c90e1749-d178-4327-9c08-feaa743fb03e",
   "metadata": {},
   "outputs": [
    {
     "data": {
      "text/plain": [
       "True"
      ]
     },
     "execution_count": 5,
     "metadata": {},
     "output_type": "execute_result"
    }
   ],
   "source": [
    "V = VectorSpace(QQ, 3)\n",
    "\n",
    "v = V([1, 2, 3]) \n",
    "w = V([4, 5, 6])\n",
    "\n",
    "# Check if linear combination is in V\n",
    "2*v - 3*w in V"
   ]
  },
  {
   "cell_type": "markdown",
   "id": "6274503f-a1a4-4569-8ce1-bec1f8d34d49",
   "metadata": {},
   "source": [
    "### Basis "
   ]
  },
  {
   "cell_type": "code",
   "execution_count": 6,
   "id": "d31c2865-2ada-4224-b3b6-dff46cd9ff58",
   "metadata": {},
   "outputs": [
    {
     "data": {
      "text/plain": [
       "[\n",
       "(1, 0, 0),\n",
       "(0, 1, 0),\n",
       "(0, 0, 1)\n",
       "]"
      ]
     },
     "execution_count": 6,
     "metadata": {},
     "output_type": "execute_result"
    }
   ],
   "source": [
    "V = VectorSpace(QQ, 3)\n",
    "V.basis()"
   ]
  },
  {
   "cell_type": "markdown",
   "id": "55cc3d5f-64dc-42f0-b159-ce88cc057339",
   "metadata": {},
   "source": [
    "**Note**: The concept of basis is foundational in linear algebra. If you're not familiar with it, don't worry! We'll delve into it in depth in a later lesson: [07 Basis](./07-basis.ipynb). For now, just know that a basis is like a set of building blocks for a vector space."
   ]
  },
  {
   "cell_type": "markdown",
   "id": "574c8ed3-231c-451a-b8b8-ddbbc5868ca0",
   "metadata": {},
   "source": [
    "### Dimension"
   ]
  },
  {
   "cell_type": "code",
   "execution_count": 7,
   "id": "de9cdbb6-746f-4e28-afc3-b9de466b81b2",
   "metadata": {},
   "outputs": [
    {
     "data": {
      "text/plain": [
       "3"
      ]
     },
     "execution_count": 7,
     "metadata": {},
     "output_type": "execute_result"
    }
   ],
   "source": [
    "V = VectorSpace(QQ, 3)\n",
    "V.dimension()"
   ]
  },
  {
   "cell_type": "markdown",
   "id": "141a0ad3-eebf-4ddb-b7ed-e2d9d2a8536b",
   "metadata": {},
   "source": [
    "The dimension of a vector space is a fundamental measure of its \"size\" or \"complexity.\" It tells us how many independent directions we need to fully describe any vector within that space.  Think of it as the minimum number of \"building blocks\" required to construct any element within the space through linear combinations."
   ]
  },
  {
   "cell_type": "markdown",
   "id": "a117c184-a9cb-4e78-8b2d-3e4994cd2ed3",
   "metadata": {},
   "source": [
    "### Linear independence"
   ]
  },
  {
   "cell_type": "code",
   "execution_count": 8,
   "id": "9b0e2afb-65bf-4556-9bb3-142c11e17fd8",
   "metadata": {},
   "outputs": [
    {
     "data": {
      "text/plain": [
       "True"
      ]
     },
     "execution_count": 8,
     "metadata": {},
     "output_type": "execute_result"
    }
   ],
   "source": [
    "V = VectorSpace(QQ, 3)\n",
    "v1 = V([1, 0, 0])\n",
    "v2 = V([0, 1, 0])\n",
    "v3 = V([0, 0, 1])\n",
    "is_linearly_independent = V.subspace([v1, v2, v3]).dimension() == len([v1, v2, v3])\n",
    "is_linearly_independent"
   ]
  },
  {
   "cell_type": "markdown",
   "id": "22e1ad2b-d249-4f95-aa48-b90e65308258",
   "metadata": {},
   "source": [
    "Checking for linear dependence or independence of vectors is a fundamental concept in linear algebra with several practical implications which we will cover in the next lesson:  [06 Linear Dependence](./06-linear-dependence.ipynb)."
   ]
  },
  {
   "cell_type": "markdown",
   "id": "ac8c4b0e-d9a0-4d20-bc86-46bb40bed951",
   "metadata": {},
   "source": [
    "### Spanning Set"
   ]
  },
  {
   "cell_type": "code",
   "execution_count": 9,
   "id": "afd59d0e-966e-415b-92ff-fc876d0ccf32",
   "metadata": {},
   "outputs": [
    {
     "data": {
      "text/plain": [
       "Vector space of degree 3 and dimension 2 over Rational Field\n",
       "Basis matrix:\n",
       "[1 0 0]\n",
       "[0 1 0]"
      ]
     },
     "execution_count": 9,
     "metadata": {},
     "output_type": "execute_result"
    }
   ],
   "source": [
    "V = VectorSpace(QQ, 3)\n",
    "span_set = V.span([V([1, 0, 0]), V([0, 1, 0])])\n",
    "span_set"
   ]
  },
  {
   "cell_type": "markdown",
   "id": "be8b125f-5aa1-4368-90b4-1df20a9d43cf",
   "metadata": {},
   "source": [
    "Spanning sets are essential because they provide a minimal set of vectors that collectively describe the entire vector space, enabling the representation of any vector within that space through linear combinations of the spanning set's vectors.\n",
    "\n",
    "We will cover span and spanning sets in the lesson [07 Span](./07-span.ipynb)."
   ]
  },
  {
   "cell_type": "markdown",
   "id": "7ae3a692-869d-41b8-9af9-bc8d99f46cc9",
   "metadata": {},
   "source": [
    "### Orthogonality"
   ]
  },
  {
   "cell_type": "code",
   "execution_count": 10,
   "id": "ce7f6642-2863-4fef-adaf-955f241157be",
   "metadata": {},
   "outputs": [
    {
     "data": {
      "text/plain": [
       "True"
      ]
     },
     "execution_count": 10,
     "metadata": {},
     "output_type": "execute_result"
    }
   ],
   "source": [
    "V = VectorSpace(QQ, 3)\n",
    "v1 = V([1, 0, 0])\n",
    "v2 = V([0, 1, 0])\n",
    "is_orthogonal = v1.dot_product(v2) == 0\n",
    "is_orthogonal"
   ]
  },
  {
   "cell_type": "markdown",
   "id": "2a89b4b9-4247-42c3-be70-f9636004d9e4",
   "metadata": {},
   "source": [
    "Orthogonality between vectors signifies that they are perpendicular to each other in a vector space, implying a zero dot product between them, and often indicates independence or a decomposition into orthogonal components.\n",
    "\n",
    "We will cover this in a later lesson."
   ]
  },
  {
   "cell_type": "markdown",
   "id": "c955701c-9261-40ef-94e1-fc6ec1e4b4da",
   "metadata": {},
   "source": [
    "### Projection"
   ]
  },
  {
   "cell_type": "code",
   "execution_count": 11,
   "id": "2bb4c387-f4f8-4530-ad80-dbef89caa3ba",
   "metadata": {},
   "outputs": [
    {
     "data": {
      "text/plain": [
       "(128/77, 160/77, 192/77)"
      ]
     },
     "execution_count": 11,
     "metadata": {},
     "output_type": "execute_result"
    }
   ],
   "source": [
    "V = VectorSpace(QQ, 3)\n",
    "v = V([1, 2, 3])\n",
    "w = V([4, 5, 6])\n",
    "proj_v_on_w = (v.dot_product(w) / w.dot_product(w)) * w\n",
    "proj_v_on_w"
   ]
  },
  {
   "cell_type": "markdown",
   "id": "8896b99d-0acb-4dd5-a808-79fda8173e5a",
   "metadata": {},
   "source": [
    "The results (128/77, 160/77, 192/77) represent the components of the vector $\\text{proj}_w(v)$, showing how much of vector $v$ lies in the direction of $w$. Understanding projections is vital as they allow for the decomposition of vectors into components along specific directions, aiding in analysis, optimization, and simplification of vector quantities in various mathematical and computational contexts.\n",
    "\n",
    "This will also be covered in a later lesson."
   ]
  },
  {
   "cell_type": "code",
   "execution_count": null,
   "id": "59cf37ce-deb9-4223-ac76-39a6dc98addb",
   "metadata": {},
   "outputs": [],
   "source": []
  }
 ],
 "metadata": {
  "kernelspec": {
   "display_name": "SageMath 10.3",
   "language": "sage",
   "name": "sagemath"
  },
  "language_info": {
   "codemirror_mode": {
    "name": "ipython",
    "version": 3
   },
   "file_extension": ".py",
   "mimetype": "text/x-python",
   "name": "python",
   "nbconvert_exporter": "python",
   "pygments_lexer": "ipython3",
   "version": "3.10.12"
  }
 },
 "nbformat": 4,
 "nbformat_minor": 5
}
