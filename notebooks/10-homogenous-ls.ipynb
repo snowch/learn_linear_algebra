{
 "cells": [
  {
   "cell_type": "markdown",
   "id": "dcaff9aa-00a0-4ae5-9785-ec4e6caf4749",
   "metadata": {},
   "source": [
    "### Homogeneous Linear Systems"
   ]
  },
  {
   "cell_type": "markdown",
   "id": "2c9e7f9f-82c3-4139-8329-e58a1e73f376",
   "metadata": {},
   "source": [
    "Let's break down homogeneous systems of equations and their connection to nullspace, using SageMath examples to illustrate."
   ]
  },
  {
   "cell_type": "markdown",
   "id": "7b98de1e-d41c-4642-8a47-6c99691eb17b",
   "metadata": {},
   "source": [
    "<div style=\"background-color:yellow; padding: 5px 10px 0px 10px; border: 1px solid black;\">\n",
    "\n",
    "Definitions: \n",
    "\n",
    "**Homogeneous Systems of Equations**\n",
    "\n",
    "A homogeneous system of equations is simply a system of linear equations where the constant term (the value on the right-hand side of the equation) is zero for every equation.  This gives us a general form like this:\n",
    "\n",
    "$$\n",
    "\\begin{align*}\n",
    "a_{11}x_1 + a_{12}x_2 + ... + a_{1n}x_n &= 0 \\\\\n",
    "a_{21}x_1 + a_{22}x_2 + ... + a_{2n}x_n &= 0 \\\\\n",
    "&\\vdots\\\\\n",
    "a_{m1}x_1 + a_{m2}x_2 + ... + a_{mn}x_n &= 0\n",
    "\\end{align*}\n",
    "$$\n",
    "\n",
    "\n",
    "\n",
    "Here's a key property:\n",
    "\n",
    "**Trivial Solution** \n",
    "\n",
    "Every homogeneous system always has at least one solution: the **trivial solution** where all the variables (x1, x2, ..., xn) are equal to zero.\n",
    "</div>"
   ]
  },
  {
   "cell_type": "markdown",
   "id": "e6586a8a-f9db-4439-8818-c09cb4709692",
   "metadata": {},
   "source": [
    "**SageMath Example**\n",
    "\n",
    "Let's consider the following homogeneous system:\n",
    "\n",
    "```\n",
    "2x + 3y - z = 0\n",
    "x - 4y + 2z = 0\n",
    "```\n",
    "\n",
    "In SageMath, we represent this as a matrix equation: `Ax = 0` where `A` is the coefficient matrix, `x` is the vector of variables, and `0` is the zero vector."
   ]
  },
  {
   "cell_type": "code",
   "execution_count": 1,
   "id": "588445da-0420-414f-8635-2e6ebd671da1",
   "metadata": {},
   "outputs": [
    {
     "data": {
      "text/html": [
       "<html>\\(\\displaystyle \\left(\\begin{array}{rrr}\n",
       "2 & 3 & -1 \\\\\n",
       "1 & -4 & 2\n",
       "\\end{array}\\right)\\)</html>"
      ],
      "text/latex": [
       "$\\displaystyle \\left(\\begin{array}{rrr}\n",
       "2 & 3 & -1 \\\\\n",
       "1 & -4 & 2\n",
       "\\end{array}\\right)$"
      ],
      "text/plain": [
       "[ 2  3 -1]\n",
       "[ 1 -4  2]"
      ]
     },
     "metadata": {},
     "output_type": "display_data"
    }
   ],
   "source": [
    "A = matrix([[2, 3, -1], [1, -4, 2]])\n",
    "show(A)"
   ]
  },
  {
   "cell_type": "code",
   "execution_count": 2,
   "id": "d667ee37-7ba4-429b-b896-1beccffd3164",
   "metadata": {},
   "outputs": [
    {
     "data": {
      "text/html": [
       "<html>\\(\\displaystyle \\left(0,\\,0\\right)\\)</html>"
      ],
      "text/latex": [
       "$\\displaystyle \\left(0,\\,0\\right)$"
      ],
      "text/plain": [
       "(0, 0)"
      ]
     },
     "metadata": {},
     "output_type": "display_data"
    }
   ],
   "source": [
    "b = vector([0, 0])  # Zero vector for a homogeneous system\n",
    "show(b)"
   ]
  },
  {
   "cell_type": "markdown",
   "id": "13f7b2af-6a84-4842-bdb1-53b0e38cf19a",
   "metadata": {},
   "source": [
    "### Nullspace (Kernel)"
   ]
  },
  {
   "cell_type": "markdown",
   "id": "b9b1e2e2-6fde-46ed-b1bb-f316bc531cae",
   "metadata": {},
   "source": [
    "In this section, we briefly cover nullspace.  It will be covered in more detail in a later lesson."
   ]
  },
  {
   "cell_type": "markdown",
   "id": "5fb25eec-d2ed-46aa-9cc2-d32e3fdf602d",
   "metadata": {},
   "source": [
    "<div style=\"background-color:yellow; padding: 5px 10px 0px 10px; border: 1px solid black;\">\n",
    "\n",
    "Definition: **nullspace**\n",
    "\n",
    "The nullspace (also called the kernel) of a matrix $A$ is the set of all vectors $x$ that satisfy the equation $Ax = 0$. \n",
    "\n",
    "In other words, **it's the set of all solutions to the homogeneous system of equations represented by matrix $A$**.\n",
    "\n",
    "</div>"
   ]
  },
  {
   "cell_type": "markdown",
   "id": "488a2e65-8445-4a09-a95c-c2fabef26129",
   "metadata": {},
   "source": [
    "**Finding the Nullspace in SageMath**\n",
    "\n",
    "SageMath makes it easy to calculate the nullspace:"
   ]
  },
  {
   "cell_type": "code",
   "execution_count": 3,
   "id": "935f5324-c763-4862-8a97-2f332765e746",
   "metadata": {},
   "outputs": [
    {
     "name": "stdout",
     "output_type": "stream",
     "text": [
      "Free module of degree 3 and rank 1 over Integer Ring\n",
      "Echelon basis matrix:\n",
      "[  2  -5 -11]\n"
     ]
    }
   ],
   "source": [
    "nullspace = A.right_kernel()  # Find the right kernel (nullspace)\n",
    "print(nullspace)"
   ]
  },
  {
   "cell_type": "markdown",
   "id": "1edae075-2426-42c2-9868-a6d4d0d2becf",
   "metadata": {},
   "source": [
    "**Interpretation**\n",
    "\n",
    "The output `[2, -5, 11]` tells us that any scalar multiple of this vector is a solution to our homogeneous system.\n",
    "\n",
    "For example:\n",
    "\n",
    "* `[2, -5, 11]` is a solution\n",
    "* `[4, -10, 22]` is a solution\n",
    "* `[-2, 5, -11]` is a solution\n",
    "\n",
    "...and so on."
   ]
  },
  {
   "cell_type": "markdown",
   "id": "edfa66a0-e89e-4162-ac9b-39e0fe89ecd3",
   "metadata": {},
   "source": [
    "### Summary\n",
    "\n",
    "* Homogeneous systems have all zero constant terms.\n",
    "* They always have at least the trivial solution (all variables zero).\n",
    "* The nullspace of the coefficient matrix captures all solutions to the homogeneous system.\n",
    "* The nullspace reveals if there are non-trivial solutions and how those solutions are structured.\n",
    "\n",
    "By understanding homogeneous systems and their solutions, we gain deeper insights into the nature of linear transformations and vector spaces, which are foundational concepts in both theoretical and applied mathematics."
   ]
  },
  {
   "cell_type": "code",
   "execution_count": null,
   "id": "563e0cfb-2fae-42bc-a0c0-3cca5459ce7b",
   "metadata": {},
   "outputs": [],
   "source": []
  }
 ],
 "metadata": {
  "kernelspec": {
   "display_name": "SageMath 10.3",
   "language": "sage",
   "name": "sagemath"
  },
  "language_info": {
   "codemirror_mode": {
    "name": "ipython",
    "version": 3
   },
   "file_extension": ".py",
   "mimetype": "text/x-python",
   "name": "python",
   "nbconvert_exporter": "python",
   "pygments_lexer": "ipython3",
   "version": "3.10.12"
  }
 },
 "nbformat": 4,
 "nbformat_minor": 5
}
