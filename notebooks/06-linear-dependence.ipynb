{
 "cells": [
  {
   "cell_type": "markdown",
   "id": "e0bb8fa9-dfb3-4db3-a1a4-c1542d7ceff4",
   "metadata": {},
   "source": [
    "### Introduction"
   ]
  },
  {
   "cell_type": "markdown",
   "id": "8bc05f23-ea92-41f5-b09e-1eb4e9cba175",
   "metadata": {},
   "source": [
    "Let's dive into linear algebra and linear dependence, using SageMath to illustrate the concepts.\n",
    "\n",
    "<div style=\"background-color:yellow; padding: 5px 10px 0px 10px; border: 1px solid black;\">\n",
    "    \n",
    "Definition: **Linear Dependence**\n",
    "\n",
    "A set of vectors is **linearly dependent** if you can express one of the vectors as a linear combination of the others. In other words, one vector is redundant because it doesn't add any new information to the set.\n",
    "\n",
    "</div>"
   ]
  },
  {
   "cell_type": "markdown",
   "id": "015c0852-f110-4cfb-9647-a64902152c23",
   "metadata": {},
   "source": [
    "**SageMath Examples**\n",
    "\n",
    "Let's use SageMath to explore linear dependence."
   ]
  },
  {
   "cell_type": "markdown",
   "id": "3a656e78-e39a-4e76-93ef-38f73b0f57c8",
   "metadata": {},
   "source": [
    "### Example 1: Two Vectors in 2D Space"
   ]
  },
  {
   "cell_type": "code",
   "execution_count": 1,
   "id": "62f31a56-5b0a-4682-8aff-a99612ef3aaa",
   "metadata": {},
   "outputs": [
    {
     "data": {
      "text/plain": [
       "True"
      ]
     },
     "execution_count": 1,
     "metadata": {},
     "output_type": "execute_result"
    }
   ],
   "source": [
    "v1 = vector([1, 2])\n",
    "v2 = vector([3, 6])\n",
    "\n",
    "# Check if v2 is a scalar multiple of v1\n",
    "v2 == 3*v1 "
   ]
  },
  {
   "cell_type": "markdown",
   "id": "68d632a7-6bab-482a-99f1-3a4339098459",
   "metadata": {},
   "source": [
    "In this case, `v2` is simply 3 times `v1`, so these vectors are linearly dependent."
   ]
  },
  {
   "cell_type": "code",
   "execution_count": 2,
   "id": "bd195315-9da0-4ca0-ac63-ed8a1366f2e0",
   "metadata": {},
   "outputs": [
    {
     "data": {
      "text/html": [
       "<html>\\(\\displaystyle \\left(\\begin{array}{rr}\n",
       "1 & 3 \\\\\n",
       "2 & 6\n",
       "\\end{array}\\right)\\)</html>"
      ],
      "text/latex": [
       "$\\displaystyle \\left(\\begin{array}{rr}\n",
       "1 & 3 \\\\\n",
       "2 & 6\n",
       "\\end{array}\\right)$"
      ],
      "text/plain": [
       "[1 3]\n",
       "[2 6]"
      ]
     },
     "metadata": {},
     "output_type": "display_data"
    }
   ],
   "source": [
    "A = matrix([v1, v2]).transpose()\n",
    "show(A)"
   ]
  },
  {
   "cell_type": "code",
   "execution_count": 3,
   "id": "20ac2917-5c29-4dbf-8d4c-623b5f6de52a",
   "metadata": {},
   "outputs": [
    {
     "name": "stdout",
     "output_type": "stream",
     "text": [
      "1\n"
     ]
    }
   ],
   "source": [
    "rank_of_A = A.rank()\n",
    "print(rank_of_A)"
   ]
  },
  {
   "cell_type": "code",
   "execution_count": 4,
   "id": "c55194eb-3999-4c1a-b031-e83c67ea1f69",
   "metadata": {},
   "outputs": [
    {
     "name": "stdout",
     "output_type": "stream",
     "text": [
      "True\n"
     ]
    }
   ],
   "source": [
    "is_dependent = rank_of_A < 2 # 2 is the number of vectors (or number of columns)\n",
    "print(is_dependent)"
   ]
  },
  {
   "cell_type": "markdown",
   "id": "3cb3c0ab-29e3-47a6-973d-ac6863e244d8",
   "metadata": {},
   "source": [
    "<div style=\"background-color:yellow; padding: 5px 10px 0px 10px; border: 1px solid black;\">\n",
    "    \n",
    "Definition: **Rank**\n",
    "\n",
    "- **Rank is a Measure of Information**: The rank of a matrix indicates the amount of independent information contained in the equations. A lower rank signifies that some information is redundant.\n",
    "- **Connection to Linear Dependence**: The rows (or columns) of a matrix are linearly dependent if and only if the rank of the matrix is less than the number of rows (or columns). This directly connects the concept of rank to linear dependence of equations.\n",
    "\n",
    "</div>"
   ]
  },
  {
   "cell_type": "markdown",
   "id": "882730a3-cdd8-43c2-b918-743c814f276f",
   "metadata": {},
   "source": [
    "### Example 2: Three Vectors in 3D Space"
   ]
  },
  {
   "cell_type": "code",
   "execution_count": 5,
   "id": "df7a6d5f-8ef8-405a-a94b-f6ec54ddb259",
   "metadata": {},
   "outputs": [
    {
     "name": "stdout",
     "output_type": "stream",
     "text": [
      "2\n"
     ]
    }
   ],
   "source": [
    "v1 = vector([1, 0, -1])\n",
    "v2 = vector([2, 1, 3])\n",
    "v3 = vector([0, -1, -5])\n",
    "\n",
    "A = matrix([v1, v2, v3])\n",
    "\n",
    "print(A.rank())  "
   ]
  },
  {
   "cell_type": "markdown",
   "id": "6d73ddd4-0d6a-477c-a75b-e03d36ca46f2",
   "metadata": {},
   "source": [
    "**Linear Dependence:** Since the rank of the matrix (2) is less than the number of vectors (3), we know that the vectors are linearly dependent. This means that we can express one of the vectors as a linear combination of the other two. "
   ]
  },
  {
   "cell_type": "code",
   "execution_count": 6,
   "id": "b807dbd2-7096-4962-8f15-67e021b500f9",
   "metadata": {},
   "outputs": [
    {
     "data": {
      "text/html": [
       "<html>\\(\\displaystyle \\left(\\begin{array}{rrr}\n",
       "1 & 0 & -1 \\\\\n",
       "0 & 1 & 5 \\\\\n",
       "0 & 0 & 0\n",
       "\\end{array}\\right)\\)</html>"
      ],
      "text/latex": [
       "$\\displaystyle \\left(\\begin{array}{rrr}\n",
       "1 & 0 & -1 \\\\\n",
       "0 & 1 & 5 \\\\\n",
       "0 & 0 & 0\n",
       "\\end{array}\\right)$"
      ],
      "text/plain": [
       "[ 1  0 -1]\n",
       "[ 0  1  5]\n",
       "[ 0  0  0]"
      ]
     },
     "metadata": {},
     "output_type": "display_data"
    }
   ],
   "source": [
    "show(A.echelon_form())"
   ]
  },
  {
   "cell_type": "markdown",
   "id": "540c6c7f-6c48-4b17-bce4-4fb4d468f0e0",
   "metadata": {},
   "source": [
    "**Finding the Relationship:**  By examining the row echelon form, we can see that:\n",
    " \n",
    " - Row 1 represents:  $\\:\\: v1 + 0v2 - v3 = 0$\n",
    " - Row 2 represents:  $\\:\\:0v1 + v2 + 5v3 = 0$\n",
    "\n",
    "We can rearrange the second equation to express v3 in terms of v1 and v2:\n",
    "\n",
    " - $v3 = -\\frac{1}{5}v2$"
   ]
  },
  {
   "cell_type": "markdown",
   "id": "c9fbd304-ed17-42b9-9184-e2de84957476",
   "metadata": {},
   "source": [
    "### Example 3: Three Vectors in 3D Space"
   ]
  },
  {
   "cell_type": "markdown",
   "id": "35ec5381-1d48-4a59-8a30-d982b50ede33",
   "metadata": {},
   "source": [
    "This example is the same as 2, but with one of the vector element values changed"
   ]
  },
  {
   "cell_type": "code",
   "execution_count": 7,
   "id": "5c8966a1-7ab4-4342-b052-1830c8755780",
   "metadata": {},
   "outputs": [
    {
     "data": {
      "text/html": [
       "<html>\\(\\displaystyle \\left(\\begin{array}{rrr}\n",
       "1 & 0 & -1 \\\\\n",
       "2 & 1 & 3 \\\\\n",
       "0 & -1 & -6\n",
       "\\end{array}\\right)\\)</html>"
      ],
      "text/latex": [
       "$\\displaystyle \\left(\\begin{array}{rrr}\n",
       "1 & 0 & -1 \\\\\n",
       "2 & 1 & 3 \\\\\n",
       "0 & -1 & -6\n",
       "\\end{array}\\right)$"
      ],
      "text/plain": [
       "[ 1  0 -1]\n",
       "[ 2  1  3]\n",
       "[ 0 -1 -6]"
      ]
     },
     "metadata": {},
     "output_type": "display_data"
    }
   ],
   "source": [
    "v1 = vector([1, 0, -1])\n",
    "v2 = vector([2, 1, 3])\n",
    "v3 = vector([0, -1, -6]) # -6 was -5 in Example 2.\n",
    "\n",
    "A = matrix([v1, v2, v3])\n",
    "show(A)"
   ]
  },
  {
   "cell_type": "code",
   "execution_count": 8,
   "id": "3bda359b-2e33-4cb7-88d1-24753a535097",
   "metadata": {},
   "outputs": [
    {
     "name": "stdout",
     "output_type": "stream",
     "text": [
      "3\n"
     ]
    }
   ],
   "source": [
    "print(A.rank())  "
   ]
  },
  {
   "cell_type": "markdown",
   "id": "1282e8c2-81fc-41a1-9008-afb8bd81abb3",
   "metadata": {},
   "source": [
    "The rank is equal to the number of columns (vectors) so this system is **linearly independent**."
   ]
  },
  {
   "cell_type": "code",
   "execution_count": 9,
   "id": "bfd907de-e99f-4d10-a863-7d026e9a51cf",
   "metadata": {},
   "outputs": [
    {
     "data": {
      "text/html": [
       "<html>\\(\\displaystyle \\left(\\begin{array}{rrr}\n",
       "1 & 0 & 0 \\\\\n",
       "0 & 1 & 0 \\\\\n",
       "0 & 0 & 1\n",
       "\\end{array}\\right)\\)</html>"
      ],
      "text/latex": [
       "$\\displaystyle \\left(\\begin{array}{rrr}\n",
       "1 & 0 & 0 \\\\\n",
       "0 & 1 & 0 \\\\\n",
       "0 & 0 & 1\n",
       "\\end{array}\\right)$"
      ],
      "text/plain": [
       "[1 0 0]\n",
       "[0 1 0]\n",
       "[0 0 1]"
      ]
     },
     "metadata": {},
     "output_type": "display_data"
    }
   ],
   "source": [
    "show(A.echelon_form())"
   ]
  },
  {
   "cell_type": "markdown",
   "id": "62189ac6-0656-4b57-a4fe-10cdd34028bb",
   "metadata": {},
   "source": [
    "Notice that we have a pivot in each column, so this means the solution is unique.\n",
    "\n",
    "In augmented form:\n",
    "$\n",
    "\\:\\:\n",
    "\\left(\\begin{array}{rrr|r}\n",
    "1 & 0 & 0 & 0 \\\\\n",
    "0 & 1 & 0 & 0 \\\\\n",
    "0 & 0 & 1 & 0\n",
    "\\end{array}\\right)\n",
    "$\n",
    "\n",
    "Therefore:\n",
    "\n",
    " - $v1 = 0$\n",
    " - $v2 = 0$\n",
    " - $v3 = 0$\n"
   ]
  },
  {
   "cell_type": "markdown",
   "id": "4f7ac22e-9548-4f14-af16-82a122679e66",
   "metadata": {},
   "source": [
    "### VectorSpace.linear_dependence() method"
   ]
  },
  {
   "cell_type": "code",
   "execution_count": 10,
   "id": "e7428488-3eee-48ae-971c-4cf3b13c2d88",
   "metadata": {},
   "outputs": [
    {
     "data": {
      "text/plain": [
       "[\n",
       "\n",
       "]"
      ]
     },
     "execution_count": 10,
     "metadata": {},
     "output_type": "execute_result"
    }
   ],
   "source": [
    "v1 = vector([1, 2, 3]) # Create a vector\n",
    "v2 = vector([4, 5, 6]) # Create a vector\n",
    "V = VectorSpace(QQ, 3) # Create a 3-dimensional vector space over rational numbers\n",
    "\n",
    "V.linear_dependence([v1, v2])\n",
    "# An empty list indicates linear independence"
   ]
  },
  {
   "cell_type": "code",
   "execution_count": 11,
   "id": "1c63f020-a408-483e-9dfe-df4f49c0e169",
   "metadata": {},
   "outputs": [
    {
     "data": {
      "text/plain": [
       "[\n",
       "(2, -1, -1)\n",
       "]"
      ]
     },
     "execution_count": 11,
     "metadata": {},
     "output_type": "execute_result"
    }
   ],
   "source": [
    "v1 = vector([1, 0, -1])\n",
    "v2 = vector([2, 1, 3])\n",
    "v3 = vector([0, -1, -5])\n",
    "V = VectorSpace(QQ, 3)\n",
    "\n",
    "V.linear_dependence([v1, v2, v3])\n",
    "# A non-empty list indicates linear dependence"
   ]
  },
  {
   "cell_type": "markdown",
   "id": "e701c09f-71ab-430f-ac12-0122fb5f7e87",
   "metadata": {},
   "source": [
    "### Key Points"
   ]
  },
  {
   "cell_type": "markdown",
   "id": "65c42f37-f641-4265-8900-7d56e754ad29",
   "metadata": {},
   "source": [
    "\n",
    "* The rank of a matrix tells us the maximum number of linearly independent rows (or columns) in that matrix.\n",
    "* Row echelon form helps us identify relationships between the rows (or columns) of a matrix, making it easier to spot linear dependence.\n",
    "* When the rank of a matrix is less than the number of vectors it contains, those vectors are linearly dependent. We can then use row echelon form or other methods to find the specific linear combination that expresses one vector in terms of the others."
   ]
  },
  {
   "cell_type": "code",
   "execution_count": null,
   "id": "07aad3fe-e154-441c-b380-a19b3c5f8dca",
   "metadata": {},
   "outputs": [],
   "source": []
  }
 ],
 "metadata": {
  "kernelspec": {
   "display_name": "SageMath 10.3",
   "language": "sage",
   "name": "sagemath"
  },
  "language_info": {
   "codemirror_mode": {
    "name": "ipython",
    "version": 3
   },
   "file_extension": ".py",
   "mimetype": "text/x-python",
   "name": "python",
   "nbconvert_exporter": "python",
   "pygments_lexer": "ipython3",
   "version": "3.10.12"
  }
 },
 "nbformat": 4,
 "nbformat_minor": 5
}
