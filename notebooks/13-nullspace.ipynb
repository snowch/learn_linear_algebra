{
 "cells": [
  {
   "cell_type": "markdown",
   "id": "5af56191-93b1-4133-8f99-43b3eee76e8b",
   "metadata": {},
   "source": [
    "### Introduction\n",
    "\n",
    "Let's dive into the concepts of nullspace, column space, and row space using SageMath. We'll break it down into separate sections for clarity, providing both code examples and visualizations.\n",
    "\n",
    "### Nullspace"
   ]
  },
  {
   "cell_type": "markdown",
   "id": "38e03795-162c-476d-99ee-799d47dfde33",
   "metadata": {},
   "source": [
    "<div style=\"background-color:yellow; padding: 5px 10px 0px 10px; border: 1px solid black;\">\n",
    "\n",
    "Definitions: **nullspace**\n",
    "\n",
    "* **Concept:** The nullspace of a matrix $A$ is the set of all vectors $x$ that satisfy the equation $Ax = 0$. These vectors, when multiplied by the matrix, \"get sent to\" the zero vector.\n",
    "* **Significance:** The nullspace reveals the linear dependencies among the columns of the matrix. Its dimension (called the nullity) tells us how many \"free variables\" exist in the solutions to a linear system.\n",
    "\n",
    "</div>"
   ]
  },
  {
   "cell_type": "markdown",
   "id": "b748ff53-bee3-4c0a-be68-94a990c0031d",
   "metadata": {},
   "source": [
    "**SageMath Example**\n",
    "\n",
    "Let's consider the following *homogeneous system*:\n",
    "\n",
    "```\n",
    "2x + 3y - z = 0\n",
    "x - 4y + 2z = 0\n",
    "```\n",
    "\n",
    "In SageMath, we represent this as a matrix equation: `Ax = 0` where `A` is the coefficient matrix, `x` is the vector of variables, and `0` is the zero vector."
   ]
  },
  {
   "cell_type": "code",
   "execution_count": 1,
   "id": "c6575381-365b-4be3-84db-e681b56f0eab",
   "metadata": {},
   "outputs": [
    {
     "data": {
      "text/html": [
       "<html>\\(\\displaystyle \\left(\\begin{array}{rrr}\n",
       "2 & 3 & -1 \\\\\n",
       "1 & -4 & 2\n",
       "\\end{array}\\right)\\)</html>"
      ],
      "text/latex": [
       "$\\displaystyle \\left(\\begin{array}{rrr}\n",
       "2 & 3 & -1 \\\\\n",
       "1 & -4 & 2\n",
       "\\end{array}\\right)$"
      ],
      "text/plain": [
       "[ 2  3 -1]\n",
       "[ 1 -4  2]"
      ]
     },
     "metadata": {},
     "output_type": "display_data"
    }
   ],
   "source": [
    "A = matrix([[2, 3, -1], [1, -4, 2]])\n",
    "show(A)"
   ]
  },
  {
   "cell_type": "code",
   "execution_count": 2,
   "id": "8fe1b34d-a84d-4c13-86ed-bed4ce567ecd",
   "metadata": {},
   "outputs": [
    {
     "name": "stdout",
     "output_type": "stream",
     "text": [
      "Free module of degree 3 and rank 1 over Integer Ring\n",
      "Echelon basis matrix:\n",
      "[  2  -5 -11]\n"
     ]
    }
   ],
   "source": [
    "nullspace = A.right_kernel()  # Find the right kernel (nullspace)\n",
    "print(nullspace)"
   ]
  },
  {
   "cell_type": "markdown",
   "id": "f34e6428-20df-4a5b-b545-deb449d24b55",
   "metadata": {},
   "source": [
    "**Interpretation**\n",
    "\n",
    "The output `[2, -5, 11]` tells us that any scalar multiple of this vector is a solution to our *homogeneous system*.\n",
    "\n",
    "For example:\n",
    "\n",
    "* `[2, -5, 11]` is a solution\n",
    "* `[4, -10, 22]` is a solution\n",
    "* `[-2, 5, -11]` is a solution\n",
    "\n",
    "...and so on."
   ]
  },
  {
   "cell_type": "markdown",
   "id": "0d51e8ae-daa5-4f61-91f8-08767f4b2c59",
   "metadata": {},
   "source": [
    "### Column Space"
   ]
  },
  {
   "cell_type": "markdown",
   "id": "e7c3d646-8e20-4db3-948b-53c02f0a0116",
   "metadata": {},
   "source": [
    "<div style=\"background-color:yellow; padding: 5px 10px 0px 10px; border: 1px solid black;\">\n",
    "\n",
    "Definitions: **column space**\n",
    "\n",
    "* **Concept:** The column space of a matrix $A$ is the span of its column vectors. It's the set of all possible linear combinations you can create using those columns.\n",
    "* **Significance:** The column space tells us what vectors the matrix can \"reach\" through multiplication. Its dimension (called the rank) is the number of linearly independent columns in the matrix.\n",
    "\n",
    "</div>"
   ]
  },
  {
   "cell_type": "markdown",
   "id": "fd5c818f-2a0d-4379-b076-97f79be630a2",
   "metadata": {},
   "source": [
    "**Code Example:**"
   ]
  },
  {
   "cell_type": "code",
   "execution_count": 3,
   "id": "d447f2e6-5412-493e-a88a-0fcb110be909",
   "metadata": {},
   "outputs": [
    {
     "name": "stdout",
     "output_type": "stream",
     "text": [
      "No solution\n"
     ]
    }
   ],
   "source": [
    "A = matrix([[1, 2, 3], [4, 5, 6], [7, 8, 9]])\n",
    "b = vector([10, 11, 12])\n",
    "C = A.column_space()\n",
    "\n",
    "if b in C:\n",
    "    print(\"Solution exists\")\n",
    "else:\n",
    "    print(\"No solution\")"
   ]
  },
  {
   "cell_type": "markdown",
   "id": "d591dadc-c3df-4a19-959e-807985de8401",
   "metadata": {},
   "source": [
    "When a system has more equations than unknowns, the column space helps determine if a solution exists."
   ]
  },
  {
   "cell_type": "markdown",
   "id": "2c862b31-34c4-4596-8c85-c721b5093e6b",
   "metadata": {},
   "source": [
    "### Row Space"
   ]
  },
  {
   "cell_type": "markdown",
   "id": "1f279aac-d133-4a85-b682-e0dc62175ab0",
   "metadata": {},
   "source": [
    "<div style=\"background-color:yellow; padding: 5px 10px 0px 10px; border: 1px solid black;\">\n",
    "\n",
    "Definitions: **Row Space**\n",
    "\n",
    "* **Concept:** The row space of a matrix $A$ is the span of its row vectors. It's analogous to the column space but focuses on the rows.\n",
    "* **Significance:**  The row space can be thought of as the column space of the matrix's transpose. It's closely related to the nullspace through orthogonal complements.\n",
    "\n",
    "</div>"
   ]
  },
  {
   "cell_type": "markdown",
   "id": "829572b8-c242-4fb1-a7b0-07f3a96089bf",
   "metadata": {},
   "source": [
    "**Code Example:**"
   ]
  },
  {
   "cell_type": "code",
   "execution_count": 4,
   "id": "402d56f8-a1fd-48a5-be49-0559bbe2c075",
   "metadata": {},
   "outputs": [
    {
     "name": "stdout",
     "output_type": "stream",
     "text": [
      "No solution\n"
     ]
    }
   ],
   "source": [
    "A = matrix([[1, 2, 3], [4, 5, 6]])\n",
    "b = vector([7, 8])\n",
    "R = A.row_space()\n",
    "\n",
    "if b in R:\n",
    "    # Find particular and homogeneous solutions\n",
    "    particular_sol = A.solve_right(b)\n",
    "    null_space = A.right_kernel()\n",
    "    general_sol = particular_sol + null_space.basis()\n",
    "    print(\"General solution:\", general_sol)\n",
    "else:\n",
    "    print(\"No solution\")"
   ]
  },
  {
   "cell_type": "markdown",
   "id": "3c4bcba1-17c9-4742-8695-e42cbb47b85d",
   "metadata": {},
   "source": [
    "Systems with more unknowns than equations often have infinite solutions. The row space characterizes these solutions."
   ]
  },
  {
   "cell_type": "markdown",
   "id": "3c9299f4-f0e1-4d80-a5f4-cfc7413e58e1",
   "metadata": {},
   "source": [
    "### Summary"
   ]
  },
  {
   "cell_type": "markdown",
   "id": "13cd6a4a-3c61-4b97-835f-92adf5e44d31",
   "metadata": {},
   "source": [
    "Here's a list of some other practical examples for nullspace, column space, and row space:\n",
    "\n",
    "**Nullspace:**\n",
    "\n",
    "* **Electrical Circuits:** Identifying redundant connections or components in a circuit where the currents sum to zero.\n",
    "* **Chemical Reactions:** Finding balanced chemical equations where the reactants and products satisfy conservation laws.\n",
    "* **Traffic Flow:** Analyzing traffic networks to identify roads where the incoming and outgoing flow rates are equal.\n",
    "* **Structural Analysis:** Determining the stability of structures by identifying forces or displacements that result in zero net effect.\n",
    "* **Cryptography:** Breaking linear codes by finding codewords that belong to the nullspace of the encoding matrix.\n",
    "\n",
    "**Column Space:**\n",
    "\n",
    "* **Image Processing:** Compressing images by representing them using a smaller set of basis vectors from the column space.\n",
    "* **Robotics:** Controlling robot movements by finding joint angles that result in desired end-effector positions (forward kinematics).\n",
    "* **Machine Learning:**  Feature selection by identifying the most informative features that span the column space of the data matrix.\n",
    "* **Economics:** Analyzing market trends by identifying the factors that contribute most to price fluctuations.\n",
    "* **Natural Language Processing:** Representing words or documents as vectors in a high-dimensional space, where the column space captures semantic relationships.\n",
    "\n",
    "**Row Space:**\n",
    "\n",
    "* **Solving Systems of Equations:** Characterizing the set of all possible solutions to a system of linear equations.\n",
    "* **Error Detection and Correction:** Identifying and correcting errors in transmitted data by checking if the received codeword lies in the row space of the parity check matrix.\n",
    "* **Linear Regression:** Finding the best-fit line or hyperplane that minimizes the error between the predicted values and the actual values.\n",
    "* **Sensor Networks:** Fusing data from multiple sensors by finding a weighted combination of sensor readings that lies in the row space of the measurement matrix.\n",
    "* **Control Systems:** Designing feedback controllers that stabilize a system by ensuring that the output lies in the desired subspace (the row space of the control matrix)."
   ]
  },
  {
   "cell_type": "code",
   "execution_count": null,
   "id": "98864d1b-d2d6-4d19-862c-ad18d92f42e1",
   "metadata": {},
   "outputs": [],
   "source": []
  }
 ],
 "metadata": {
  "kernelspec": {
   "display_name": "SageMath 10.3",
   "language": "sage",
   "name": "sagemath"
  },
  "language_info": {
   "codemirror_mode": {
    "name": "ipython",
    "version": 3
   },
   "file_extension": ".py",
   "mimetype": "text/x-python",
   "name": "python",
   "nbconvert_exporter": "python",
   "pygments_lexer": "ipython3",
   "version": "3.10.12"
  }
 },
 "nbformat": 4,
 "nbformat_minor": 5
}
