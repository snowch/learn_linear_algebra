{
 "cells": [
  {
   "cell_type": "markdown",
   "id": "c948d825-aeb6-4e8a-afb9-ebf6220bb437",
   "metadata": {},
   "source": [
    "### Introduction"
   ]
  },
  {
   "cell_type": "markdown",
   "id": "ff066c40-b6fd-4ddf-aa55-2091ac0c5507",
   "metadata": {},
   "source": [
    "Let's dive into the concept of matrix spaces and illustrate them with SageMath examples.\n"
   ]
  },
  {
   "cell_type": "markdown",
   "id": "17f28842-a175-4217-ae2b-c46dc9903d86",
   "metadata": {},
   "source": [
    "### What is a Matrix Space?"
   ]
  },
  {
   "cell_type": "markdown",
   "id": "6b6f696f-dd13-4137-a8c5-b1bab864532b",
   "metadata": {},
   "source": [
    "<div style=\"background-color:yellow; padding: 5px 10px 0px 10px; border: 1px solid black;\">\n",
    "\n",
    "Definitions: **Closure**\n",
    "\n",
    "A set is said to be closed under an operation if performing that **operation on members of the set always produces a result that is also a member of the set**.\n",
    "\n",
    "This definition is general and applies to any set and any operation, not just matrix spaces. You can then follow it with your definition of matrix spaces, which will be a specific application of the closure concept.\n",
    "\n",
    "</div>"
   ]
  },
  {
   "cell_type": "markdown",
   "id": "53b58ca5-fb97-47c7-9f5f-2bcde1f0b18f",
   "metadata": {},
   "source": [
    "<div style=\"background-color:yellow; padding: 5px 10px 0px 10px; border: 1px solid black;\">\n",
    "\n",
    "Definitions: **Matrix Space**\n",
    "\n",
    "A matrix space is a set of matrices that have the same dimensions (same number of rows and columns) and share the following properties:\n",
    "\n",
    "1. **Closure under Addition:** Adding any two matrices within the space results in another matrix that also belongs to the space.\n",
    "2. **Closure under Scalar Multiplication:** Multiplying any matrix in the space by a scalar (a number) produces a matrix that remains within the space.\n",
    "\n",
    "In essence, a matrix space is a vector space where the \"vectors\" are matrices.\n",
    "\n",
    "</div>"
   ]
  },
  {
   "cell_type": "markdown",
   "id": "886f94c2-626b-44ba-90ac-8d47ae4bb028",
   "metadata": {},
   "source": [
    "\n",
    "**SageMath Examples**\n",
    "\n",
    "SageMath is a fantastic tool for exploring matrix spaces. Let's work through some examples:\n"
   ]
  },
  {
   "cell_type": "markdown",
   "id": "e07d7596-252f-4125-863f-d82d481a509b",
   "metadata": {},
   "source": [
    "### The Space of All 2x2 Matrices"
   ]
  },
  {
   "cell_type": "markdown",
   "id": "fa6b5039-e5b4-42f3-8d5e-6f6e09bec2e1",
   "metadata": {},
   "source": [
    "This section introduces a fundamental matrix space: the set of all 2x2 matrices with entries that are rational numbers.  We denote this space as $M$."
   ]
  },
  {
   "cell_type": "code",
   "execution_count": 1,
   "id": "35df9d4d-be18-46f9-ab80-f2bb0b155928",
   "metadata": {},
   "outputs": [
    {
     "data": {
      "text/html": [
       "<html>\\(\\displaystyle \\left(\\begin{array}{rr}\n",
       "1 & 1 \\\\\n",
       "5 & 5\n",
       "\\end{array}\\right)\\)</html>"
      ],
      "text/latex": [
       "$\\displaystyle \\left(\\begin{array}{rr}\n",
       "1 & 1 \\\\\n",
       "5 & 5\n",
       "\\end{array}\\right)$"
      ],
      "text/plain": [
       "[1 1]\n",
       "[5 5]"
      ]
     },
     "metadata": {},
     "output_type": "display_data"
    }
   ],
   "source": [
    "M = MatrixSpace(QQ, 2, 2) \n",
    "A = M([1, 2, 3, 4]) \n",
    "B = M([0, -1, 2, 1])\n",
    "show(A + B)"
   ]
  },
  {
   "cell_type": "code",
   "execution_count": 2,
   "id": "4e79b5c1-a20b-4799-aa8a-0385d48f60b4",
   "metadata": {},
   "outputs": [
    {
     "data": {
      "text/html": [
       "<html>\\(\\displaystyle \\left(\\begin{array}{rr}\n",
       "3 & 6 \\\\\n",
       "9 & 12\n",
       "\\end{array}\\right)\\)</html>"
      ],
      "text/latex": [
       "$\\displaystyle \\left(\\begin{array}{rr}\n",
       "3 & 6 \\\\\n",
       "9 & 12\n",
       "\\end{array}\\right)$"
      ],
      "text/plain": [
       "[ 3  6]\n",
       "[ 9 12]"
      ]
     },
     "metadata": {},
     "output_type": "display_data"
    }
   ],
   "source": [
    "show(3 * A)"
   ]
  },
  {
   "cell_type": "markdown",
   "id": "f2e63778-af17-4dfe-a0ec-a35e1a97d492",
   "metadata": {},
   "source": [
    "**Key Points:**\n",
    "\n",
    "* **Construction:** The `MatrixSpace(QQ, 2, 2)` command in SageMath creates this space. `QQ` indicates that matrix entries are rational (can be expressed as fractions), while `2, 2` specifies the dimensions of the matrices.\n",
    "\n",
    "* **Examples:** Matrices `A` and `B` are specific instances within this space, demonstrating the variety of matrices it contains.\n",
    "\n",
    "* **Closure:**  We showcase how this space upholds the essential properties of closure:\n",
    "    * **Addition:** The sum of `A` and `B` results in another 2x2 matrix with rational entries, remaining within the space `M`.\n",
    "    * **Scalar Multiplication:**  Multiplying matrix `A` by the scalar 3 produces a matrix that still belongs to `M`.\n",
    "\n",
    "**Significance:**\n",
    "\n",
    "This example serves as a building block for understanding more complex matrix spaces. It illustrates the core concepts of:\n",
    "\n",
    "* **Matrix Spaces as Vector Spaces:** The space `M` behaves like a vector space, where matrices take the role of vectors.\n",
    "* **Closure as a Defining Feature:** The closure properties are fundamental to the definition of a matrix space. \n",
    "\n",
    "By grasping these concepts in this simple context, we lay the groundwork for exploring a rich variety of matrix spaces with different dimensions, entry types, and additional constraints.\n"
   ]
  },
  {
   "cell_type": "markdown",
   "id": "7edc2009-795a-410b-9e30-f66a24d721e4",
   "metadata": {},
   "source": [
    "### The Space of Symmetric 2x2 Matrices"
   ]
  },
  {
   "cell_type": "markdown",
   "id": "b3435432-5646-4469-bee9-130ea86710b2",
   "metadata": {},
   "source": [
    "This section delves into a specific type of matrix space: the set of all 2x2 symmetric matrices with rational number entries.  A symmetric matrix is one that is equal to its transpose (flipped along its diagonal)."
   ]
  },
  {
   "cell_type": "code",
   "execution_count": 3,
   "id": "c1eb42ec-3c7b-4737-afef-8706dc260a16",
   "metadata": {},
   "outputs": [
    {
     "name": "stdout",
     "output_type": "stream",
     "text": [
      "Matrix C is:\n",
      "[1 2]\n",
      "[2 3]\n",
      "Matrix D is:\n",
      "[ 0  1]\n",
      "[ 1 -1]\n",
      "Matrix C + D is:\n",
      "[1 3]\n",
      "[3 2]\n",
      "Is C + D symmetric? True\n"
     ]
    }
   ],
   "source": [
    "# Define the matrix space over the rationals with dimension 2x2\n",
    "M = MatrixSpace(QQ, 2)\n",
    "\n",
    "# Define the matrices C and D\n",
    "C = M([1, 2, 2, 3])  \n",
    "D = M([0, 1, 1, -1]) \n",
    "\n",
    "# Sum the matrices\n",
    "E = C + D\n",
    "\n",
    "# Check if E is symmetric by comparing it to its transpose\n",
    "is_symmetric = E == E.transpose()\n",
    "\n",
    "# Print the result\n",
    "print(\"Matrix C is:\")\n",
    "print(C)\n",
    "print(\"Matrix D is:\")\n",
    "print(D)\n",
    "print(\"Matrix C + D is:\")\n",
    "print(E)\n",
    "print(\"Is C + D symmetric?\", is_symmetric)\n"
   ]
  },
  {
   "cell_type": "markdown",
   "id": "a8e4f8a0-1d2c-4e07-867d-0e39993a7b6b",
   "metadata": {},
   "source": [
    "**Key Points:**\n",
    "\n",
    "* **Defining the Space:** We begin by creating the space `M` of all 2x2 matrices over rational numbers (`QQ`) using `MatrixSpace(QQ, 2)`.\n",
    "* **Constructing Symmetric Matrices:** Matrices `C` and `D` are defined within this space, and their entries are carefully chosen to ensure they are symmetric (note that the elements below the diagonal are mirrored above it).\n",
    "* **Closure under Addition:**  The code demonstrates that adding the symmetric matrices `C` and `D` results in a new matrix `E` that is also symmetric. This reinforces the concept of closure under addition for this specific matrix space.\n",
    "* **Verification of Symmetry:** The code explicitly checks whether the resulting matrix `E` is symmetric by comparing it to its transpose. This verification step confirms that the operation of addition preserves the symmetry property within this space.\n",
    "\n",
    "**Significance:**\n",
    "\n",
    "This example highlights:\n",
    "\n",
    "* **Subspaces:** The space of symmetric matrices is a subspace within the larger space `M` of all 2x2 matrices. This means it inherits the closure properties of `M` but also satisfies an additional constraint (symmetry).\n",
    "* **Structure:** Symmetric matrices have a special structure where the elements above and below the diagonal are mirror images. This structure is preserved under addition, making this subspace particularly interesting.\n",
    "\n",
    "Understanding symmetric matrix spaces is crucial in various areas of mathematics and applications, including linear algebra, optimization, and physics. This example serves as a stepping stone towards exploring other structured subspaces with unique properties.\n"
   ]
  },
  {
   "cell_type": "markdown",
   "id": "87767692-36b8-414f-8eea-9f1df601ea15",
   "metadata": {},
   "source": [
    "### The Space of Upper Triangular 3x3 Matrices"
   ]
  },
  {
   "cell_type": "markdown",
   "id": "e76e007a-0e54-48fd-ba3a-76221ecbaf60",
   "metadata": {},
   "source": [
    "This section explores another important subspace within the larger space of all 3x3 matrices: the set of upper triangular matrices. "
   ]
  },
  {
   "cell_type": "markdown",
   "id": "6f54e97b-cd69-4163-9f87-2d9c00733269",
   "metadata": {},
   "source": [
    "<div style=\"background-color:yellow; padding: 5px 10px 0px 10px; border: 1px solid black;\">\n",
    "\n",
    "Definitions: **Upper Triangular Matrix**\n",
    "\n",
    "An upper triangular matrix is a square matrix where **all the elements below the main diagonal (the diagonal running from the top-left corner to the bottom-right corner) are zero**. These matrices form a distinct subspace within the space of all square matrices, meaning they possess closure properties and maintain their structure under addition.\n",
    "\n",
    "Significance:\n",
    "\n",
    "Subspace Properties: Upper triangular matrices form a subspace, inheriting the properties of closure under addition and scalar multiplication from the larger space of square matrices. Additionally, the sum of two upper triangular matrices always results in another upper triangular matrix, preserving their characteristic structure.\n",
    "\n",
    "Applications: Upper triangular matrices are of significant importance in linear algebra and numerical analysis. They frequently appear in matrix factorizations like LU decomposition (covered in a later lesson), simplifying calculations involved in solving systems of linear equations, finding determinants, and other matrix operations.\n",
    "\n",
    "</div>"
   ]
  },
  {
   "cell_type": "code",
   "execution_count": 4,
   "id": "ecf7da0d-9bcf-4f55-93a2-08e6519da4e0",
   "metadata": {},
   "outputs": [
    {
     "name": "stdout",
     "output_type": "stream",
     "text": [
      "Matrix E is:\n",
      "[1 2 3]\n",
      "[0 4 5]\n",
      "[0 0 6]\n",
      "Matrix F is:\n",
      "[-1  0  2]\n",
      "[ 0  3  1]\n",
      "[ 0  0 -2]\n",
      "Matrix E + F is:\n",
      "[0 2 5]\n",
      "[0 7 6]\n",
      "[0 0 4]\n",
      "Is E + F upper triangular? True\n"
     ]
    }
   ],
   "source": [
    "# Import the necessary module\n",
    "from sage.all import MatrixSpace, matrix, RR\n",
    "\n",
    "# Define the matrix space over the real numbers with dimension 3x3\n",
    "M = MatrixSpace(QQ, 3, 3)\n",
    "\n",
    "# Define the upper triangular matrices E and F\n",
    "E = M([[1, 2, 3], [0, 4, 5], [0, 0, 6]])\n",
    "F = M([[-1, 0, 2], [0, 3, 1], [0, 0, -2]])\n",
    "\n",
    "# Sum the matrices\n",
    "G = E + F\n",
    "\n",
    "# Check if G is upper triangular - notice how we are checking\n",
    "n = G.nrows()\n",
    "is_upper_triangular = all(G[i, j] == 0 for i in range(n) for j in range(i))\n",
    "\n",
    "\n",
    "# Print the result\n",
    "print(\"Matrix E is:\")\n",
    "print(E)\n",
    "print(\"Matrix F is:\")\n",
    "print(F)\n",
    "print(\"Matrix E + F is:\")\n",
    "print(G)\n",
    "print(\"Is E + F upper triangular?\", is_upper_triangular)\n"
   ]
  },
  {
   "cell_type": "markdown",
   "id": "869e7c5d-75b4-4e4f-988b-16500f4295f0",
   "metadata": {},
   "source": [
    "**Key Points:**\n",
    "\n",
    "* **Defining the Space:** We begin by creating the general matrix space `M` over the rational numbers using `MatrixSpace(QQ, 3, 3)`. This provides a framework for building our specific subspace.\n",
    "* **Constructing Upper Triangular Matrices:**  Matrices `E` and `F` are constructed with elements strategically placed to ensure they are upper triangular. The key is that all entries with row index greater than column index are zero.\n",
    "* **Closure under Addition:** The sum of upper triangular matrices `E` and `F` results in another upper triangular matrix `G`. This demonstrates closure under addition within this subspace.\n",
    "* **Verification of Upper Triangular Form:** The code uses the `all()` function and a generator expression to check if matrix `G` is upper triangular. Here's how it works:\n",
    "    1. `n = G.nrows()`: Determines the number of rows in matrix `G`.\n",
    "    2. `for i in range(n)`: Iterates over each row of the matrix.\n",
    "    3. `for j in range(i)`:  Iterates over columns up to the main diagonal within each row.\n",
    "    4. `G[i, j] == 0`: Checks if each element below the main diagonal is zero.\n",
    "    5. `all(...)`: Returns `True` only if all the conditions (below-diagonal elements being zero) are met. Otherwise, it returns `False`.\n",
    "\n",
    "\n",
    "\n",
    "**Significance:**\n",
    "\n",
    "Understanding the space of upper triangular matrices deepens our knowledge of matrix structures and their applications.  It illustrates how specific constraints can lead to subspaces with unique properties and practical significance.\n"
   ]
  },
  {
   "cell_type": "markdown",
   "id": "aad80f9c-a55d-42c9-912c-91b812ff8ed7",
   "metadata": {},
   "source": [
    "### Lesson Key Concepts"
   ]
  },
  {
   "cell_type": "markdown",
   "id": "90d2dc0c-9692-4944-ba0f-098ac161c7f1",
   "metadata": {},
   "source": [
    "* **Basis:** A set of matrices that span the entire matrix space and are linearly independent. You can find a basis for a matrix space using SageMath's `.basis()` method.\n",
    "* **Dimension:** The number of matrices in a basis for the space.\n",
    "* **Subspaces:** Smaller matrix spaces contained within a larger one.\n"
   ]
  },
  {
   "cell_type": "code",
   "execution_count": null,
   "id": "f828315e-4ea4-4de6-9b77-e453dee3e870",
   "metadata": {},
   "outputs": [],
   "source": []
  }
 ],
 "metadata": {
  "kernelspec": {
   "display_name": "SageMath 10.3",
   "language": "sage",
   "name": "sagemath"
  },
  "language_info": {
   "codemirror_mode": {
    "name": "ipython",
    "version": 3
   },
   "file_extension": ".py",
   "mimetype": "text/x-python",
   "name": "python",
   "nbconvert_exporter": "python",
   "pygments_lexer": "ipython3",
   "version": "3.10.12"
  }
 },
 "nbformat": 4,
 "nbformat_minor": 5
}
