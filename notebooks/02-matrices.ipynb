{
 "cells": [
  {
   "cell_type": "markdown",
   "id": "019d333c-f2be-40ed-aa4e-93821289df42",
   "metadata": {},
   "source": [
    "### Introduction\n",
    "\n",
    "<div style=\"background-color:yellow; padding: 5px 10px 0px 10px; border: 1px solid black;\">\n",
    "\n",
    "Definition: **Matrix**\n",
    "\n",
    "In linear algebra, a matrix is a rectangular array of numbers, symbols, or expressions, arranged in rows and columns. Matrices are fundamental in representing and solving linear equations, performing transformations, and various other applications in mathematics and engineering.\n",
    "\n",
    "</div>\n"
   ]
  },
  {
   "cell_type": "markdown",
   "id": "1565807e-7eb8-4f30-b922-d9413fa41805",
   "metadata": {},
   "source": [
    "\n",
    "Matrices are used to compactly represent and manipulate linear systems. They allow us to solve complex problems efficiently and provide a framework for understanding higher-dimensional spaces."
   ]
  },
  {
   "cell_type": "markdown",
   "id": "56f5e0ab-0669-4c4d-84fd-99d38ce23dd4",
   "metadata": {},
   "source": [
    "### Solving Linear Equations\n",
    "\n",
    "Let's start by considering this System of Linear equations:\n",
    "\n",
    "$$\n",
    "\\begin{align*}\n",
    "x + 2y + 3z &= 4 \\\\\n",
    "& \\\\\n",
    "y + 2z &= 3 \\\\\n",
    "& \\\\\n",
    "z &= 2\n",
    "\\end{align*}\n",
    "$$\n",
    "\n",
    "Let's put this into Matrix format:\n",
    "\n",
    "$$\n",
    "Ax = b\n",
    "$$"
   ]
  },
  {
   "cell_type": "code",
   "execution_count": 1,
   "id": "9661658e-bbc8-473c-8a73-9f67f9d54a49",
   "metadata": {},
   "outputs": [
    {
     "data": {
      "text/html": [
       "<html>\\(\\displaystyle \\left(\\begin{array}{rrr}\n",
       "1 & 2 & 3 \\\\\n",
       "0 & 1 & 2 \\\\\n",
       "0 & 0 & 1\n",
       "\\end{array}\\right)\\)</html>"
      ],
      "text/latex": [
       "$\\displaystyle \\left(\\begin{array}{rrr}\n",
       "1 & 2 & 3 \\\\\n",
       "0 & 1 & 2 \\\\\n",
       "0 & 0 & 1\n",
       "\\end{array}\\right)$"
      ],
      "text/plain": [
       "[1 2 3]\n",
       "[0 1 2]\n",
       "[0 0 1]"
      ]
     },
     "metadata": {},
     "output_type": "display_data"
    }
   ],
   "source": [
    "# the first parameter '3' means use three rows\n",
    "A = matrix(3, [1,2,3,0,1,2,0,0,1])\n",
    "show(A)"
   ]
  },
  {
   "cell_type": "code",
   "execution_count": 2,
   "id": "1cf3beec-dc22-49bc-8718-d4ad1ac9c31f",
   "metadata": {},
   "outputs": [
    {
     "data": {
      "text/html": [
       "<html>\\(\\displaystyle \\left(4,\\,3,\\,2\\right)\\)</html>"
      ],
      "text/latex": [
       "$\\displaystyle \\left(4,\\,3,\\,2\\right)$"
      ],
      "text/plain": [
       "(4, 3, 2)"
      ]
     },
     "metadata": {},
     "output_type": "display_data"
    }
   ],
   "source": [
    "b = vector([4,3,2])\n",
    "show(b)"
   ]
  },
  {
   "cell_type": "markdown",
   "id": "4720b7bb-e24f-47c5-905b-295947f98f94",
   "metadata": {},
   "source": [
    "Documentation:\n",
    "- [sage.matrix.constructor.matrixsage.matrix.constructor.matrix](https://doc.sagemath.org/html/en/reference/matrices/sage/matrix/constructor.html#sage.matrix.constructor.matrix)\n",
    "- [sage.modules.free_module_element.vector](https://doc.sagemath.org/html/en/reference/modules/sage/modules/free_module_element.html#sage.modules.free_module_element.vector)"
   ]
  },
  {
   "cell_type": "code",
   "execution_count": 3,
   "id": "30aca7f6-b9b3-414d-8060-589aadf8c989",
   "metadata": {},
   "outputs": [
    {
     "data": {
      "text/plain": [
       "(0, -1, 2)"
      ]
     },
     "execution_count": 3,
     "metadata": {},
     "output_type": "execute_result"
    }
   ],
   "source": [
    "A.solve_right(b)"
   ]
  },
  {
   "cell_type": "markdown",
   "id": "17c2af75-3b6b-40e4-b3a6-17a980afdc73",
   "metadata": {},
   "source": [
    "The output tells us the following values solve the equation:\n",
    "\n",
    "$x = 0$, $y = -1$, and $z = 2$.\n",
    "\n",
    "A linear system may have no solution, one solution or many solutions.  We will explore this aspect in a subsequent notebook."
   ]
  },
  {
   "cell_type": "code",
   "execution_count": 4,
   "id": "f58bad6c-1d6b-42a2-9a8b-c42bca89de96",
   "metadata": {},
   "outputs": [],
   "source": [
    "# get the 'solution' vector from solve_right\n",
    "s = A.solve_right(b)"
   ]
  },
  {
   "cell_type": "markdown",
   "id": "f2ba6fd0-8eb6-46fa-b224-566718170d98",
   "metadata": {},
   "source": [
    "The solution vector contains the values for `x`, `y`, `z`.  We can plug those back into our system:\n",
    "\n",
    "$As = b$"
   ]
  },
  {
   "cell_type": "code",
   "execution_count": 5,
   "id": "06dfd0b9-3601-4fb3-871a-ff2a809b17fa",
   "metadata": {},
   "outputs": [
    {
     "data": {
      "text/plain": [
       "(4, 3, 2)"
      ]
     },
     "execution_count": 5,
     "metadata": {},
     "output_type": "execute_result"
    }
   ],
   "source": [
    "A*s"
   ]
  },
  {
   "cell_type": "markdown",
   "id": "55a6c0c6-9a39-49fa-85d9-b850b75a7604",
   "metadata": {},
   "source": [
    "As expected, the result from $As$ is equal to the value of $b$ vector:"
   ]
  },
  {
   "cell_type": "code",
   "execution_count": 6,
   "id": "ed510c35-858e-4e85-9d2e-516c963ddd8f",
   "metadata": {},
   "outputs": [
    {
     "data": {
      "text/plain": [
       "True"
      ]
     },
     "execution_count": 6,
     "metadata": {},
     "output_type": "execute_result"
    }
   ],
   "source": [
    "A*s == b"
   ]
  },
  {
   "cell_type": "markdown",
   "id": "cb2dd957-39df-4cbe-ba5d-272208243864",
   "metadata": {},
   "source": [
    "Documentation: [sage.matrix.matrix2.Matrix.solve_right](https://doc.sagemath.org/html/en/reference/matrices/sage/matrix/matrix2.html#sage.matrix.matrix2.Matrix.solve_right)"
   ]
  },
  {
   "cell_type": "markdown",
   "id": "5c5f2669-467d-4994-aeab-f1913506952c",
   "metadata": {},
   "source": [
    "### Solve right versus Solve left\n",
    "\n",
    "In SageMath, `solve_right` and `solve_left` are methods used to solve matrix equations. The difference lies in which side of the equation the matrix is placed and which side the solution is returned.\n",
    "\n",
    "1. `solve_right`: This method is used to solve matrix equations of the form \\( AX = B \\), where \\( A \\) is the matrix and \\( B \\) is the right-hand side. In other words, you provide the matrix \\( A \\) and the result \\( B \\), and the method will return the solution \\( X \\). \n",
    "\n",
    "2. `solve_left`: This method is used to solve matrix equations of the form \\( XA = B \\), where \\( A \\) is the matrix and \\( B \\) is the right-hand side. Here, you provide the matrix \\( A \\) and the result \\( B \\), and the method returns the solution \\( X \\).\n"
   ]
  },
  {
   "cell_type": "markdown",
   "id": "80289222-c175-4387-941f-a277c6249701",
   "metadata": {},
   "source": [
    "### What are `QQ`, `ZZ`, `RR`, `CC`, etc?"
   ]
  },
  {
   "cell_type": "markdown",
   "id": "1d0ac25c-2f2c-4f81-afd5-beff6f9baaa1",
   "metadata": {
    "jp-MarkdownHeadingCollapsed": true
   },
   "source": [
    "You will frequently see `matrix()` and `vector()` having the first parameter like the following:\n",
    "\n",
    "```\n",
    "A = matrix(QQ, 3, [1,2,3,0,1,2,0,0,1])\n",
    "b = vector(QQ, [4,3,2])\n",
    "```\n",
    "Here `QQ` means Rational Numbers. Other number types are described below.\n",
    "\n"
   ]
  },
  {
   "cell_type": "markdown",
   "id": "d85f1cc6-cd9e-4856-8c14-9627d288f632",
   "metadata": {},
   "source": [
    "\n",
    "<div style=\"background-color:yellow; padding: 5px 10px 0px 10px; border: 1px solid black;\">\n",
    "\n",
    "Definition: **Ring**\n",
    "\n",
    "In mathematics, a ring is an algebraic structure consisting of a set equipped with two binary operations: addition and multiplication. These operations must satisfy certain properties, such as associativity and distributivity. Rings generalize the concepts of arithmetic operations found in familiar number systems.\n",
    "\n",
    "The term \"ring\" is used because the operations of addition and multiplication form a structure that \"rings\" around itself, meaning the results of these operations always remain within the set, forming a closed loop or \"ring.\" This closed-loop nature is a key characteristic of rings, differentiating them from other algebraic structures like groups and fields.\n",
    "\n",
    "Many common sets of numbers naturally form rings:\n",
    "\n",
    "- $ZZ$ - Integer Numbers\n",
    "- $RR$ - Real Number\n",
    "- $QQ$ - Rational Numbers\n",
    "- $CC$ - Complex Numbers\n",
    "- $GF(x)$ - Finite Field of size x\n",
    "\n",
    "</div>"
   ]
  },
  {
   "cell_type": "markdown",
   "id": "fca94158-c8d3-4a2c-a1b1-a50df8af3710",
   "metadata": {},
   "source": [
    "Closely related to Rings are Fields:"
   ]
  },
  {
   "cell_type": "markdown",
   "id": "925b95e4-2fea-4c97-9f7f-e9d8e85369b1",
   "metadata": {},
   "source": [
    "\n",
    "<div style=\"background-color:yellow; padding: 5px 10px 0px 10px; border: 1px solid black;\">\n",
    "\n",
    "Definition: **Field**\n",
    "\n",
    "A **field is a special type of ring** where not only addition and multiplication are defined and follow the standard arithmetic properties, but also every non-zero element has a multiplicative inverse. This means for every non-zero element $a$ in a field, there exists an element $b$ such that $a \\cdot b = 1$. Fields are fundamental in algebra because they allow for division by non-zero elements, making them very versatile and powerful in solving equations and various mathematical problems.\n",
    "\n",
    "The term \"field\" reflects its broad applicability and utility in various areas of mathematics, much like how fields of study encompass wide areas of knowledge.\n",
    "\n",
    "Fields ensure that operations like addition, subtraction, multiplication, and division (except by zero) can be performed within the set, providing a robust framework for various algebraic and geometric concepts.\n",
    "\n",
    "</div>"
   ]
  },
  {
   "cell_type": "markdown",
   "id": "78e085e1-753a-4bcf-9b51-9a700ca69efb",
   "metadata": {},
   "source": [
    "You can change the type using `change_ring()`"
   ]
  },
  {
   "cell_type": "code",
   "execution_count": 7,
   "id": "cf1d6228-2abe-4d00-a280-a8b16015372d",
   "metadata": {},
   "outputs": [],
   "source": [
    "v = vector(QQ['x,y'], [1..5])\n",
    "v = v.change_ring(GF(3))"
   ]
  },
  {
   "cell_type": "code",
   "execution_count": 8,
   "id": "7ac5c01b-de3d-4556-ae5a-94a0bdf59834",
   "metadata": {},
   "outputs": [
    {
     "data": {
      "text/plain": [
       "Vector space of dimension 5 over Finite Field of size 3"
      ]
     },
     "execution_count": 8,
     "metadata": {},
     "output_type": "execute_result"
    }
   ],
   "source": [
    "# display the current ring\n",
    "v.parent()"
   ]
  },
  {
   "cell_type": "markdown",
   "id": "354aa965-c9de-47ae-a77c-a8bd6a1d6161",
   "metadata": {},
   "source": [
    "Here the output reports the Field type, Finite Field of size 3, i.e. `GF(3)`.\n",
    "\n",
    "We cover \"Vector Space\" and \"Dimensions\" in later lessons."
   ]
  },
  {
   "cell_type": "code",
   "execution_count": 9,
   "id": "4e9163b2-b567-4ebb-9464-6cb0bfff45e4",
   "metadata": {},
   "outputs": [],
   "source": [
    "A = Matrix(QQ, 2, 2, [1/2, 1/3, 1/3, 1/4])\n",
    "A = A.change_ring(GF(5)) "
   ]
  },
  {
   "cell_type": "code",
   "execution_count": 10,
   "id": "c0a3b77b-09f1-46f5-94c5-5579e47862ef",
   "metadata": {},
   "outputs": [
    {
     "data": {
      "text/plain": [
       "Full MatrixSpace of 2 by 2 dense matrices over Ring of integers modulo 5"
      ]
     },
     "execution_count": 10,
     "metadata": {},
     "output_type": "execute_result"
    }
   ],
   "source": [
    "# display the current ring\n",
    "A.parent()"
   ]
  },
  {
   "cell_type": "markdown",
   "id": "a5f290d2-26bf-452a-9382-02f29ad07289",
   "metadata": {},
   "source": [
    "Note that both `v` (`GF(3)`) and `A` (`GF(5)`) are finite fields. The distinction between \"finite field\" and \"ring of integers modulo 5\" in the outputs may be a matter of how SageMath represents and labels the structures.  "
   ]
  },
  {
   "cell_type": "markdown",
   "id": "b7a59bd7-db61-4193-b419-e7ed4e576b5e",
   "metadata": {},
   "source": [
    "Documentation:\n",
    "\n",
    "- [Basic Rings](https://doc.sagemath.org/html/en/tutorial/tour_rings.html)\n",
    "- [sage.modules.free_module_element.FreeModuleElement.change_ring (vector)](https://doc.sagemath.org/html/en/reference/modules/sage/modules/free_module_element.html#sage.modules.free_module_element.FreeModuleElement.change_ring)\n",
    "- [sage.matrix.matrix0.Matrix.change_ring](https://doc.sagemath.org/html/en/reference/matrices/sage/matrix/matrix0.html#sage.matrix.matrix0.Matrix.change_ring)"
   ]
  }
 ],
 "metadata": {
  "kernelspec": {
   "display_name": "SageMath 10.3",
   "language": "sage",
   "name": "sagemath"
  },
  "language_info": {
   "codemirror_mode": {
    "name": "ipython",
    "version": 3
   },
   "file_extension": ".py",
   "mimetype": "text/x-python",
   "name": "python",
   "nbconvert_exporter": "python",
   "pygments_lexer": "ipython3",
   "version": "3.10.12"
  }
 },
 "nbformat": 4,
 "nbformat_minor": 5
}
