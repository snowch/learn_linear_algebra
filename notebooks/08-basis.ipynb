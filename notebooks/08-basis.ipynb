{
 "cells": [
  {
   "cell_type": "markdown",
   "id": "26adab01-924d-4f89-9bc5-6e59224faaf5",
   "metadata": {},
   "source": [
    "Let's dive into the concept of linear algebra basis using SageMath to illustrate.\n",
    "\n",
    "**Review of key concepts**\n",
    "\n",
    "* **Vector Space:** A collection of vectors that can be added together and multiplied by scalars (usually real or complex numbers), while still obeying specific rules.\n",
    "* **Linear Combination:** Adding multiples of vectors together (e.g., 3*vector1 + 2*vector2).\n",
    "* **Span:** The set of all possible linear combinations you can create from a given set of vectors.\n",
    "* **Linear Independence:** A set of vectors is linearly independent if none of them can be expressed as a linear combination of the others.\n"
   ]
  },
  {
   "cell_type": "markdown",
   "id": "f5d0c07a-701f-4c06-9932-04c34b6108d7",
   "metadata": {},
   "source": [
    "<div style=\"background-color:yellow; padding: 5px 10px 0px 10px; border: 1px solid black;\">\n",
    "    \n",
    "Definition: **Basis:** \n",
    "\n",
    "A linearly independent set of vectors that spans the entire vector space. It's essentially a minimal set of vectors that can \"build\" any other vector in the space through linear combinations.\n",
    "\n",
    "A basis is a **special type of spanning set that is also linearly independent**, making it the minimal and most efficient set of vectors needed to span the space.\n",
    "\n",
    "</div>"
   ]
  },
  {
   "cell_type": "markdown",
   "id": "cbd488d9-75c2-4117-bb55-1c9938c52483",
   "metadata": {},
   "source": [
    "\n",
    "**SageMath Examples**\n",
    "\n",
    "Let's use SageMath, a powerful open-source mathematics software system, to make these concepts more tangible.\n",
    "\n",
    "**1. Creating Vectors and Vector Spaces**\n"
   ]
  },
  {
   "cell_type": "code",
   "execution_count": 1,
   "id": "917ff8a3-881e-47ad-b4ed-8481e8acea69",
   "metadata": {},
   "outputs": [
    {
     "name": "stdout",
     "output_type": "stream",
     "text": [
      "Vector space of dimension 3 over Rational Field\n"
     ]
    }
   ],
   "source": [
    "v1 = vector([1, 2, 3])\n",
    "v2 = vector([4, 5, 6])\n",
    "v3 = vector([7, 8, 9])\n",
    "V = VectorSpace(QQ, 3)  # Create a 3-dimensional vector space over rational numbers\n",
    "print(V)"
   ]
  },
  {
   "cell_type": "markdown",
   "id": "6ffb5e7c-982e-41c5-932b-677193a33099",
   "metadata": {},
   "source": [
    "\n",
    "**2. Checking Linear Independence**"
   ]
  },
  {
   "cell_type": "code",
   "execution_count": 2,
   "id": "c49e1eda-11b8-4f52-8962-92b9f741bc4c",
   "metadata": {},
   "outputs": [
    {
     "data": {
      "text/plain": [
       "[\n",
       "(1, -2, 1)\n",
       "]"
      ]
     },
     "execution_count": 2,
     "metadata": {},
     "output_type": "execute_result"
    }
   ],
   "source": [
    "V.linear_dependence([v1, v2, v3])\n",
    "# A non-empty list indicates linear dependence"
   ]
  },
  {
   "cell_type": "markdown",
   "id": "fefff3cf-bc57-43b9-928b-b3a3f550a2d3",
   "metadata": {},
   "source": [
    "**3. Finding a Basis**"
   ]
  },
  {
   "cell_type": "code",
   "execution_count": 3,
   "id": "fc03560b-abe8-4366-89b9-6a75f1c02bf9",
   "metadata": {},
   "outputs": [
    {
     "name": "stdout",
     "output_type": "stream",
     "text": [
      "[\n",
      "(1, 0, -1),\n",
      "(0, 1, 2)\n",
      "]\n"
     ]
    }
   ],
   "source": [
    "A = matrix(QQ, [[1, 2, 3], [4, 5, 6], [7, 8, 9]])\n",
    "row_space_basis = A.row_space()\n",
    "basis_vectors = row_space_basis.basis()\n",
    "print(basis_vectors)"
   ]
  },
  {
   "cell_type": "markdown",
   "id": "0e87a2b3-4a7c-49b4-b761-c63047d82597",
   "metadata": {},
   "source": [
    "SageMath finds a basis for the row space of matrix `A`. \n",
    "\n",
    "This means these two vectors can be combined to create any row of `A`."
   ]
  },
  {
   "cell_type": "markdown",
   "id": "8b9422e2-2731-4785-a88b-a594fdb0cded",
   "metadata": {},
   "source": [
    "**4. Expressing rows as a combination of the basis vectors**"
   ]
  },
  {
   "cell_type": "markdown",
   "id": "f00315db-e457-445b-b0f4-10e4147b490f",
   "metadata": {},
   "source": [
    "Each row of matrix $ A $ can be expressed as a combination of the basis vectors found by SageMath. Let's start with your matrix $ A $:\n",
    "\n",
    "$ A = \\begin{pmatrix}\n",
    "1 & 2 & 3 \\\\\n",
    "4 & 5 & 6 \\\\\n",
    "7 & 8 & 9\n",
    "\\end{pmatrix} $\n",
    "\n",
    "The basis vectors for the row space of $ A $ are given by:\n",
    "\n",
    "$ \\mathbf{v}_1 = (1, 0, -1) $\n",
    "$ \\mathbf{v}_2 = (0, 1, 2) $\n",
    "\n",
    "These basis vectors mean that any row of $ A $ can be written as a linear combination of $\\mathbf{v}_1$ and $\\mathbf{v}_2$.\n",
    "\n",
    "Let's express each row of $ A $ as such a combination.\n",
    "\n",
    "**Row 1: $ (1, 2, 3) $**\n",
    "\n",
    "We want to find scalars $ c_1 $ and $ c_2 $ such that:\n",
    "\n",
    "$ (1, 2, 3) = c_1 (1, 0, -1) + c_2 (0, 1, 2) $\n",
    "\n",
    "This leads to the system of equations:\n",
    "\n",
    "$ \\begin{cases}\n",
    "c_1 = 1 \\\\\n",
    "c_2 = 2 \\\\\n",
    "- c_1 + 2c_2 = 3\n",
    "\\end{cases} $\n",
    "\n",
    "Let's solve it step-by-step:\n",
    "\n",
    "1. From the first equation: $ c_1 = 1 $.\n",
    "2. From the second equation: $ c_2 = 2 $.\n",
    "3. Check the third equation: $ -1 + 2 \\cdot 2 = -1 + 4 = 3 $.\n",
    "\n",
    "So, the combination for the first row is:\n",
    "\n",
    "$ (1, 2, 3) = 1 \\cdot (1, 0, -1) + 2 \\cdot (0, 1, 2) $\n",
    "\n",
    "Let's verify this:"
   ]
  },
  {
   "cell_type": "code",
   "execution_count": 4,
   "id": "f5d82397-519c-4bf4-9637-436e9cd20915",
   "metadata": {},
   "outputs": [
    {
     "data": {
      "text/plain": [
       "True"
      ]
     },
     "execution_count": 4,
     "metadata": {},
     "output_type": "execute_result"
    }
   ],
   "source": [
    "vector([1, 2, 3]) == 1 * vector([1,0,-1]) + 2* vector([0,1,2]) "
   ]
  },
  {
   "cell_type": "markdown",
   "id": "fd2110b4-c0b9-4e4c-af27-9cb4253f0eb4",
   "metadata": {},
   "source": [
    "The combinations for the second and third row have been calculated for you and are shown below:\n",
    "\n",
    "- $ (4, 5, 6) = 4 \\cdot (1, 0, -1) + 5 \\cdot (0, 1, 2) $\n",
    "- $ (7, 8, 9) = 7 \\cdot (1, 0, -1) + 8 \\cdot (0, 1, 2) $\n",
    "\n",
    "In summary, the basis vectors $(1, 0, -1)$ and $(0, 1, 2)$ can indeed be combined using appropriate scalars to reconstruct each row of matrix $ A $."
   ]
  },
  {
   "cell_type": "markdown",
   "id": "ab0f3f37-7207-40a1-9366-6e7dc8bb4b00",
   "metadata": {},
   "source": [
    "### Why Basis Matters\n",
    "\n",
    "* **Compact Representation:**  A basis gives you the most concise way to describe a vector space.\n",
    "* **Coordinates:** Every vector in the space gets a unique \"address\" (coordinates) with respect to a chosen basis.\n",
    "* **Transformations:** Basis vectors help understand how linear transformations (like rotations or reflections) work.\n"
   ]
  }
 ],
 "metadata": {
  "kernelspec": {
   "display_name": "SageMath 10.3",
   "language": "sage",
   "name": "sagemath"
  },
  "language_info": {
   "codemirror_mode": {
    "name": "ipython",
    "version": 3
   },
   "file_extension": ".py",
   "mimetype": "text/x-python",
   "name": "python",
   "nbconvert_exporter": "python",
   "pygments_lexer": "ipython3",
   "version": "3.10.12"
  }
 },
 "nbformat": 4,
 "nbformat_minor": 5
}
