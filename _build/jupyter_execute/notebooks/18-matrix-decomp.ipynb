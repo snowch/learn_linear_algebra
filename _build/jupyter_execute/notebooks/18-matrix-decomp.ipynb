{
 "cells": [
  {
   "cell_type": "markdown",
   "id": "239ed2ba",
   "metadata": {},
   "source": [
    "# Matrix Decompositions"
   ]
  },
  {
   "cell_type": "markdown",
   "id": "0dff7ad7-a951-4a56-a40a-6ba4a4d06383",
   "metadata": {},
   "source": [
    "Let's dive into matrix decompositions using SageMath, along with explanations, examples, code, and visualizations."
   ]
  },
  {
   "cell_type": "markdown",
   "id": "6cb6932d-3013-471e-880f-5461d01e6b50",
   "metadata": {},
   "source": [
    "### Why Matrix Decompositions?\n",
    "\n",
    "Matrix decompositions are like breaking down a complex object into simpler parts. This makes it easier to analyze, solve equations, and understand the underlying structure of the matrix. Each type of decomposition has unique properties and applications.\n",
    "\n",
    "**1. LU Decomposition**\n",
    "\n",
    "* **Concept:** Expresses a matrix A as the product of a lower triangular matrix (L) and an upper triangular matrix (U): A = LU.\n",
    "* **Applications:**\n",
    "    * Solving systems of linear equations efficiently (Gaussian elimination).\n",
    "    * Calculating determinants.\n",
    "    * Finding matrix inverses.\n"
   ]
  },
  {
   "cell_type": "code",
   "execution_count": 1,
   "id": "421a5555-77d1-4638-b9cd-85c1136f7ca6",
   "metadata": {},
   "outputs": [
    {
     "name": "stdout",
     "output_type": "stream",
     "text": [
      "\n",
      "P:\n",
      "\n"
     ]
    },
    {
     "data": {
      "text/html": [
       "<html>\\(\\displaystyle \\left(\\begin{array}{rrr}\n",
       "0 & 1 & 0 \\\\\n",
       "0 & 0 & 1 \\\\\n",
       "1 & 0 & 0\n",
       "\\end{array}\\right)\\)</html>"
      ],
      "text/latex": [
       "$\\displaystyle \\left(\\begin{array}{rrr}\n",
       "0 & 1 & 0 \\\\\n",
       "0 & 0 & 1 \\\\\n",
       "1 & 0 & 0\n",
       "\\end{array}\\right)$"
      ],
      "text/plain": [
       "[0 1 0]\n",
       "[0 0 1]\n",
       "[1 0 0]"
      ]
     },
     "metadata": {},
     "output_type": "display_data"
    },
    {
     "name": "stdout",
     "output_type": "stream",
     "text": [
      "\n",
      "L:\n",
      "\n"
     ]
    },
    {
     "data": {
      "text/html": [
       "<html>\\(\\displaystyle \\left(\\begin{array}{rrr}\n",
       "1 & 0 & 0 \\\\\n",
       "\\frac{1}{4} & 1 & 0 \\\\\n",
       "\\frac{1}{2} & \\frac{2}{3} & 1\n",
       "\\end{array}\\right)\\)</html>"
      ],
      "text/latex": [
       "$\\displaystyle \\left(\\begin{array}{rrr}\n",
       "1 & 0 & 0 \\\\\n",
       "\\frac{1}{4} & 1 & 0 \\\\\n",
       "\\frac{1}{2} & \\frac{2}{3} & 1\n",
       "\\end{array}\\right)$"
      ],
      "text/plain": [
       "[  1   0   0]\n",
       "[1/4   1   0]\n",
       "[1/2 2/3   1]"
      ]
     },
     "metadata": {},
     "output_type": "display_data"
    },
    {
     "name": "stdout",
     "output_type": "stream",
     "text": [
      "\n",
      "U:\n",
      "\n"
     ]
    },
    {
     "data": {
      "text/html": [
       "<html>\\(\\displaystyle \\left(\\begin{array}{rrr}\n",
       "8 & 7 & 9 \\\\\n",
       "0 & -\\frac{3}{4} & -\\frac{5}{4} \\\\\n",
       "0 & 0 & -\\frac{2}{3}\n",
       "\\end{array}\\right)\\)</html>"
      ],
      "text/latex": [
       "$\\displaystyle \\left(\\begin{array}{rrr}\n",
       "8 & 7 & 9 \\\\\n",
       "0 & -\\frac{3}{4} & -\\frac{5}{4} \\\\\n",
       "0 & 0 & -\\frac{2}{3}\n",
       "\\end{array}\\right)$"
      ],
      "text/plain": [
       "[   8    7    9]\n",
       "[   0 -3/4 -5/4]\n",
       "[   0    0 -2/3]"
      ]
     },
     "metadata": {},
     "output_type": "display_data"
    },
    {
     "name": "stdout",
     "output_type": "stream",
     "text": [
      "\n",
      "Verification: PA == LU: False\n"
     ]
    }
   ],
   "source": [
    "import numpy as np\n",
    "from sage.all import *\n",
    "\n",
    "A = matrix([[2, 1, 1],\n",
    "           [4, 3, 3],\n",
    "           [8, 7, 9]])\n",
    "\n",
    "# LU decomposition\n",
    "P, L, U = A.LU()\n",
    "\n",
    "print(\"\\nP:\\n\")\n",
    "show(P)\n",
    "print(\"\\nL:\\n\")\n",
    "show(L)\n",
    "print(\"\\nU:\\n\")\n",
    "show(U)\n",
    "\n",
    "# Verify PA = LU (Corrected)\n",
    "print(\"\\nVerification: PA == LU:\", np.allclose(P*A, L*U)) "
   ]
  },
  {
   "cell_type": "markdown",
   "id": "47e43765-6678-4a5a-9db1-669ca5f41c03",
   "metadata": {},
   "source": [
    "**Visualization (LU):**\n",
    "\n",
    "LU decomposition can be visualized as the steps of Gaussian elimination.  Each step zeros out elements below the pivot, leading to an upper triangular matrix (U). The multipliers used for elimination are stored in the lower triangular matrix (L)."
   ]
  },
  {
   "cell_type": "markdown",
   "id": "f7e57367-dd99-4949-b65d-04480fe11e7f",
   "metadata": {},
   "source": [
    "**2. QR Decomposition**\n",
    "\n",
    "* **Concept:** Expresses a matrix A as the product of an orthogonal matrix (Q) and an upper triangular matrix (R): A = QR.\n",
    "* **Applications:**\n",
    "    * Solving linear least squares problems.\n",
    "    * Finding orthonormal bases for subspaces.\n",
    "    * Computing eigenvalues and eigenvectors using the QR algorithm.\n"
   ]
  },
  {
   "cell_type": "code",
   "execution_count": 2,
   "id": "31903e79-f4f8-4d8d-9ba6-5f8a8c69491d",
   "metadata": {},
   "outputs": [
    {
     "name": "stdout",
     "output_type": "stream",
     "text": [
      "\n",
      "Q (rounded to 2dp):\n",
      "\n"
     ]
    },
    {
     "data": {
      "text/html": [
       "<html>\\(\\displaystyle \\left(\\begin{array}{rrr}\n",
       "-0.22 & -0.82 & -0.53 \\\\\n",
       "-0.44 & -0.41 & 0.80 \\\\\n",
       "-0.87 & 0.41 & -0.27\n",
       "\\end{array}\\right)\\)</html>"
      ],
      "text/latex": [
       "$\\displaystyle \\left(\\begin{array}{rrr}\n",
       "-0.22 & -0.82 & -0.53 \\\\\n",
       "-0.44 & -0.41 & 0.80 \\\\\n",
       "-0.87 & 0.41 & -0.27\n",
       "\\end{array}\\right)$"
      ],
      "text/plain": [
       "[-0.22 -0.82 -0.53]\n",
       "[-0.44 -0.41  0.80]\n",
       "[-0.87  0.41 -0.27]"
      ]
     },
     "metadata": {},
     "output_type": "display_data"
    },
    {
     "name": "stdout",
     "output_type": "stream",
     "text": [
      "\n",
      "R (rounded to 2dp):\n",
      "\n"
     ]
    },
    {
     "data": {
      "text/html": [
       "<html>\\(\\displaystyle \\left(\\begin{array}{rrr}\n",
       "-9.2 & -7.6 & -9.4 \\\\\n",
       "0.00 & 0.82 & 1.6 \\\\\n",
       "0.00 & 0.00 & -0.53\n",
       "\\end{array}\\right)\\)</html>"
      ],
      "text/latex": [
       "$\\displaystyle \\left(\\begin{array}{rrr}\n",
       "-9.2 & -7.6 & -9.4 \\\\\n",
       "0.00 & 0.82 & 1.6 \\\\\n",
       "0.00 & 0.00 & -0.53\n",
       "\\end{array}\\right)$"
      ],
      "text/plain": [
       "[ -9.2  -7.6  -9.4]\n",
       "[ 0.00  0.82   1.6]\n",
       "[ 0.00  0.00 -0.53]"
      ]
     },
     "metadata": {},
     "output_type": "display_data"
    },
    {
     "name": "stdout",
     "output_type": "stream",
     "text": [
      "\n",
      "Verification: A == QR: True\n"
     ]
    }
   ],
   "source": [
    "A = matrix(CDF, [[2, 1, 1],\n",
    "           [4, 3, 3],\n",
    "           [8, 7, 9]])\n",
    "\n",
    "# QR decomposition\n",
    "Q, R = A.QR()\n",
    "\n",
    "# Using the 'n()' method to\n",
    "# display with 2 digits of precision\n",
    "print(\"\\nQ (rounded to 2dp):\\n\")\n",
    "show(Q.n(digits=2))  \n",
    "print(\"\\nR (rounded to 2dp):\\n\")\n",
    "show(R.n(digits=2))\n",
    "\n",
    "# Verify A == QR\n",
    "print(\"\\nVerification: A == QR:\", np.allclose(A, Q*R))  "
   ]
  },
  {
   "cell_type": "markdown",
   "id": "591d931a-de73-4970-a709-017d653dfc2e",
   "metadata": {},
   "source": [
    "\n",
    "**Visualization (QR):**\n",
    "\n",
    "The columns of Q are orthonormal (perpendicular and unit length).  The upper triangular matrix R captures the information about the relationships between the original columns of A.\n",
    "\n",
    "\n",
    "\n",
    "**3. Cholesky Decomposition**\n",
    "\n",
    "* **Concept:** Expresses a symmetric positive definite matrix A as the product of a lower triangular matrix (L) and its transpose: A = LL^T\n",
    "* **Applications:**\n",
    "    * Efficiently solving systems of linear equations with symmetric positive definite matrices.\n",
    "    * Monte Carlo simulations.\n",
    "    * Nonlinear optimization.\n"
   ]
  },
  {
   "cell_type": "code",
   "execution_count": 3,
   "id": "ad73d8ba-9be4-4997-b55e-c128f3b2c734",
   "metadata": {},
   "outputs": [
    {
     "name": "stdout",
     "output_type": "stream",
     "text": [
      "\n",
      "L:\n",
      "\n"
     ]
    },
    {
     "data": {
      "text/html": [
       "<html>\\(\\displaystyle \\left(\\begin{array}{rrr}\n",
       "2 & 0 & 0 \\\\\n",
       "6 & 1 & 0 \\\\\n",
       "-8 & 5 & 3\n",
       "\\end{array}\\right)\\)</html>"
      ],
      "text/latex": [
       "$\\displaystyle \\left(\\begin{array}{rrr}\n",
       "2 & 0 & 0 \\\\\n",
       "6 & 1 & 0 \\\\\n",
       "-8 & 5 & 3\n",
       "\\end{array}\\right)$"
      ],
      "text/plain": [
       "[ 2  0  0]\n",
       "[ 6  1  0]\n",
       "[-8  5  3]"
      ]
     },
     "metadata": {},
     "output_type": "display_data"
    },
    {
     "name": "stdout",
     "output_type": "stream",
     "text": [
      "\n",
      "LT:\n",
      "\n"
     ]
    },
    {
     "data": {
      "text/html": [
       "<html>\\(\\displaystyle \\left(\\begin{array}{rrr}\n",
       "2 & 6 & -8 \\\\\n",
       "0 & 1 & 5 \\\\\n",
       "0 & 0 & 3\n",
       "\\end{array}\\right)\\)</html>"
      ],
      "text/latex": [
       "$\\displaystyle \\left(\\begin{array}{rrr}\n",
       "2 & 6 & -8 \\\\\n",
       "0 & 1 & 5 \\\\\n",
       "0 & 0 & 3\n",
       "\\end{array}\\right)$"
      ],
      "text/plain": [
       "[ 2  6 -8]\n",
       "[ 0  1  5]\n",
       "[ 0  0  3]"
      ]
     },
     "metadata": {},
     "output_type": "display_data"
    },
    {
     "name": "stdout",
     "output_type": "stream",
     "text": [
      "\n",
      "Verification: A == LL^T: True\n"
     ]
    }
   ],
   "source": [
    "A = matrix([[4, 12, -16],\n",
    "           [12, 37, -43],\n",
    "           [-16, -43, 98]])\n",
    "\n",
    "# Cholesky decomposition\n",
    "L = A.cholesky()\n",
    "\n",
    "print(\"\\nL:\\n\")\n",
    "show(L)\n",
    "print(\"\\nLT:\\n\")\n",
    "show(L.transpose())\n",
    "\n",
    "# Verify A == LL^T (Corrected)\n",
    "print(\"\\nVerification: A == LL^T:\", np.allclose(A, L*L.transpose())) "
   ]
  },
  {
   "cell_type": "markdown",
   "id": "63e51fb8-ac2f-4791-a499-6a4ee473fbcf",
   "metadata": {},
   "source": [
    "**Visualization (Cholesky):**\n",
    "\n",
    "Similar to LU, but with the advantage that you only need to compute and store the lower triangular matrix L.\n",
    "\n",
    "\n",
    "\n",
    "**4. Eigendecomposition**\n",
    "\n",
    "* **Concept:**  Expresses a square matrix A as the product: A = QΛQ^(-1), where Q is a matrix of eigenvectors, and Λ is a diagonal matrix of eigenvalues.\n",
    "* **Applications:**\n",
    "    * Understanding the long-term behavior of dynamical systems.\n",
    "    * Dimensionality reduction (Principal Component Analysis).\n",
    "    * Image compression."
   ]
  },
  {
   "cell_type": "code",
   "execution_count": 4,
   "id": "01962daf-9a4c-4ee4-bb29-ccf4a8f56207",
   "metadata": {},
   "outputs": [
    {
     "name": "stdout",
     "output_type": "stream",
     "text": [
      "\n",
      "Eigenvalues:\n",
      "\n"
     ]
    },
    {
     "data": {
      "text/html": [
       "<html>\\(\\displaystyle \\left(\\begin{array}{rrr}\n",
       "0.28 & 0.00 & 0.00 \\\\\n",
       "0.00 & 0.00 & 0.00 \\\\\n",
       "0.00 & 0.00 & 0.00\n",
       "\\end{array}\\right)\\)</html>"
      ],
      "text/latex": [
       "$\\displaystyle \\left(\\begin{array}{rrr}\n",
       "0.28 & 0.00 & 0.00 \\\\\n",
       "0.00 & 0.00 & 0.00 \\\\\n",
       "0.00 & 0.00 & 0.00\n",
       "\\end{array}\\right)$"
      ],
      "text/plain": [
       "[0.28 0.00 0.00]\n",
       "[0.00 0.00 0.00]\n",
       "[0.00 0.00 0.00]"
      ]
     },
     "metadata": {},
     "output_type": "display_data"
    },
    {
     "name": "stdout",
     "output_type": "stream",
     "text": [
      "\n",
      "Eigenvectors:\n",
      "\n"
     ]
    },
    {
     "data": {
      "text/html": [
       "<html>\\(\\displaystyle \\left(\\begin{array}{rrr}\n",
       "1.0 & 1.0 & 1.0 \\\\\n",
       "-4.1 & 1.2 & 2.8 \\\\\n",
       "2.3 & -2.1 & 7.8\n",
       "\\end{array}\\right)\\)</html>"
      ],
      "text/latex": [
       "$\\displaystyle \\left(\\begin{array}{rrr}\n",
       "1.0 & 1.0 & 1.0 \\\\\n",
       "-4.1 & 1.2 & 2.8 \\\\\n",
       "2.3 & -2.1 & 7.8\n",
       "\\end{array}\\right)$"
      ],
      "text/plain": [
       "[ 1.0  1.0  1.0]\n",
       "[-4.1  1.2  2.8]\n",
       "[ 2.3 -2.1  7.8]"
      ]
     },
     "metadata": {},
     "output_type": "display_data"
    }
   ],
   "source": [
    "import numpy as np\n",
    "from sage.all import *\n",
    "\n",
    "# Example matrix\n",
    "A = matrix([[2, 1, 1],\n",
    "           [4, 3, 3],\n",
    "           [8, 7, 9]])\n",
    "\n",
    "# Eigendecomposition\n",
    "eigenvalues, eigenvectors = A.eigenmatrix_right()\n",
    "\n",
    "# Extract numerical values from RealRoots object\n",
    "eigenvalues = [e[0] for e in eigenvalues]  \n",
    "\n",
    "# Create diagonal matrix and change ring\n",
    "# We change the ring in the eigendecomposition code to accommodate complex eigenvalues\n",
    "D = diagonal_matrix(eigenvalues).change_ring(CDF)  \n",
    "\n",
    "# Using the 'n()' method\n",
    "# display with 2 digits of precision\n",
    "print(\"\\nEigenvalues:\\n\")\n",
    "show(D.n(digits=2) )\n",
    "\n",
    "# Using the 'n()' method to\n",
    "# display with 2 digits of precision\n",
    "print(\"\\nEigenvectors:\\n\")\n",
    "show(eigenvectors.n(digits=2))"
   ]
  },
  {
   "cell_type": "markdown",
   "id": "d6a4f605-2881-4e3d-8d2c-ba95c816981c",
   "metadata": {},
   "source": [
    "**Additional Notes:**\n",
    "\n",
    "* These examples demonstrate basic decompositions. SageMath offers more advanced functions and options (e.g., pivoting strategies for LU, handling complex matrices).\n",
    "* Visualizations can be done using libraries like Matplotlib in conjunction with SageMath."
   ]
  },
  {
   "cell_type": "code",
   "execution_count": null,
   "id": "2204a050-13ed-4716-97c3-506c51514eb9",
   "metadata": {},
   "outputs": [],
   "source": []
  }
 ],
 "metadata": {
  "kernelspec": {
   "display_name": "SageMath 10.3",
   "language": "sage",
   "name": "sagemath"
  },
  "language_info": {
   "codemirror_mode": {
    "name": "ipython",
    "version": 3
   },
   "file_extension": ".py",
   "mimetype": "text/x-python",
   "name": "python",
   "nbconvert_exporter": "python",
   "pygments_lexer": "ipython3",
   "version": "3.12.5"
  }
 },
 "nbformat": 4,
 "nbformat_minor": 5
}