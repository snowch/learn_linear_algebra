{
 "cells": [
  {
   "cell_type": "markdown",
   "id": "2726cb03",
   "metadata": {},
   "source": [
    "# Transformations"
   ]
  },
  {
   "cell_type": "markdown",
   "id": "dd75309f-9937-4528-a5b3-c29d9ae527be",
   "metadata": {},
   "source": [
    "Let's dive into linear transformations using SageMath code and visualizations.\n",
    "\n",
    "### Core Concepts\n"
   ]
  },
  {
   "cell_type": "markdown",
   "id": "b6b42196-20ac-44e9-80af-caef97254cad",
   "metadata": {},
   "source": [
    "<div style=\"background-color:yellow; padding: 5px 10px 0px 10px; border: 1px solid black;\">\n",
    "\n",
    "Definitions:  **Linear transformations**\n",
    "\n",
    "\n",
    "Linear transformations (or **maps**) are functions that take vectors from one vector space and transform them into vectors in another (or potentially the same) vector space (e.g. 3D $\\rightarrow$ 2D, 3D $\\rightarrow$ 3D, etc). They obey two key rules:\n",
    "\n",
    " - **Additivity:**  T(u + v) = T(u) + T(v)   (The transformation of a sum is the sum of the transformations)\n",
    " - **Homogeneity:** T(c*u) = c*T(u)      (Scaling a vector before transforming is the same as scaling after)\n",
    "\n",
    "Linear transformations are fundamental to many fields:\n",
    " - **Geometry:** They describe rotations, reflections, stretches, shears, etc.\n",
    " - **Physics:** They represent changes in physical systems over time or space.\n",
    " - **Data Science:** They underlie dimensionality reduction techniques (PCA, etc.).\n",
    "\n",
    "Linear transformations are often represented by matrices. Applying the transformation means multiplying the matrix by a vector.\n",
    "\n",
    "</div>"
   ]
  },
  {
   "cell_type": "markdown",
   "id": "32735284-a6e0-42f8-afc1-885b722854dd",
   "metadata": {},
   "source": [
    "**SageMath Code Examples**"
   ]
  },
  {
   "cell_type": "markdown",
   "id": "64444352-c658-43c9-98f5-83383e60034b",
   "metadata": {},
   "source": [
    "### Example 1. Basic transformation"
   ]
  },
  {
   "cell_type": "markdown",
   "id": "98b3fba1-142e-4edc-aac2-1762caf17d26",
   "metadata": {},
   "source": [
    "\n",
    "Step 1: Define the transformation matrix $ A $:\n",
    "\n",
    "$\n",
    "A = \\begin{pmatrix}\n",
    "2 & 1 \\\\\n",
    "1 & 3 \\\\\n",
    "\\end{pmatrix}\n",
    "$\n",
    "\n",
    "Step 2: Define the vector to be transformed $\\mathbf{v}$:\n",
    "\n",
    "$\n",
    "\\mathbf{v} = \\begin{pmatrix}\n",
    "1 \\\\\n",
    "0 \\\\\n",
    "\\end{pmatrix}\n",
    "$\n",
    "\n",
    "Step 3: Apply the transformation $ \\mathbf{w} $:\n",
    "\n",
    "$\n",
    "\\mathbf{w} = A \\cdot \\mathbf{v}\n",
    "$\n",
    "\n",
    "Step 4: Calculate $ \\mathbf{w} $:\n",
    "\n",
    "$\n",
    "\\mathbf{w} = \\begin{pmatrix}\n",
    "2 & 1 \\\\\n",
    "1 & 3 \\\\\n",
    "\\end{pmatrix} \\cdot \\begin{pmatrix}\n",
    "1 \\\\\n",
    "0 \\\\\n",
    "\\end{pmatrix}\n",
    "$\n",
    "\n",
    "Step 5: Simplify the result:\n",
    "\n",
    "$\n",
    "\\mathbf{w} = \\begin{pmatrix}\n",
    "2 \\cdot 1 + 1 \\cdot 0 \\\\\n",
    "1 \\cdot 1 + 3 \\cdot 0 \\\\\n",
    "\\end{pmatrix}\n",
    "= \\begin{pmatrix}\n",
    "2 \\\\\n",
    "1 \\\\\n",
    "\\end{pmatrix}\n",
    "$\n",
    "\n",
    "Step 6: Display the vector before and after transformation:\n",
    "\n",
    "$\n",
    "\\text{Vector before transformation: } \\begin{pmatrix}\n",
    "1 \\\\\n",
    "0 \\\\\n",
    "\\end{pmatrix}\n",
    "$\n",
    "\n",
    "$\n",
    "\\text{Vector after transformation: } \\begin{pmatrix}\n",
    "2 \\\\\n",
    "1 \\\\\n",
    "\\end{pmatrix}\n",
    "$\n",
    "\n",
    "These steps outline the process of applying the linear transformation matrix $ A $ to the vector $ \\mathbf{v} $ and obtaining the transformed vector $ \\mathbf{w} $.\n",
    "\n",
    "Here is the SageMath code:"
   ]
  },
  {
   "cell_type": "code",
   "execution_count": 1,
   "id": "c85e0da5-1a0e-4a23-a80e-8c4d22005088",
   "metadata": {},
   "outputs": [
    {
     "name": "stdout",
     "output_type": "stream",
     "text": [
      "Vector before transformation: (1, 0)\n",
      "Vector after transformation: (2, 1)\n"
     ]
    }
   ],
   "source": [
    "# Define a transformation matrix\n",
    "A = matrix([[2, 1],\n",
    "            [1, 3]])\n",
    "\n",
    "# Define a vector before transformation\n",
    "v = vector([1, 0])\n",
    "\n",
    "# Apply the transformation\n",
    "w = A * v\n",
    "\n",
    "# Display the vector before and after transformation\n",
    "print(\"Vector before transformation:\", v)\n",
    "print(\"Vector after transformation:\", w)"
   ]
  },
  {
   "cell_type": "markdown",
   "id": "64df347b-f2fe-4879-8336-e27a9c582152",
   "metadata": {},
   "source": [
    "### Example 2. Rotation Transformation\n",
    "\n",
    "Let's create a linear transformation that rotates vectors in the 2D plane by 45 degrees counter-clockwise."
   ]
  },
  {
   "cell_type": "code",
   "execution_count": 2,
   "id": "b070363b-4b14-411a-80ac-241b4bd5d563",
   "metadata": {},
   "outputs": [
    {
     "data": {
      "image/png": "[encoded data removed]",
      "text/plain": [
       "Graphics object consisting of 10 graphics primitives"
      ]
     },
     "metadata": {},
     "output_type": "display_data"
    }
   ],
   "source": [
    "# Define standard basis vectors\n",
    "e1 = vector(RDF, [1, 0])\n",
    "e2 = vector(RDF, [0, 1])\n",
    "\n",
    "# Plot the standard basis vectors\n",
    "p = arrow((0, 0), e1, color='blue', arrowsize=2.0) + \\\n",
    "    arrow((0, 0), e2, color='blue', arrowsize=2.0)\n",
    "\n",
    "# Define the transformation matrix\n",
    "A = matrix(RDF, [[2, 1], [1, 2]])\n",
    "\n",
    "# Apply the transformation to the basis vectors\n",
    "Te1 = A * e1\n",
    "Te2 = A * e2\n",
    "p += arrow((0, 0), Te1, color='red', arrowsize=2) + \\\n",
    "     arrow((0, 0), Te2, color='red', arrowsize=2)\n",
    "\n",
    "# Create a square and apply the transformation\n",
    "square_points = [vector(RDF, [1, 1]), \n",
    "                 vector(RDF, [1, -1]), \n",
    "                 vector(RDF, [-1, -1]), \n",
    "                 vector(RDF, [-1, 1]), \n",
    "                 vector(RDF, [1, 1])]\n",
    "\n",
    "Tsquare = [A * point for point in square_points]\n",
    "\n",
    "# Plot the square and its transformation\n",
    "p += line(square_points, color='green') + line(Tsquare, color='green')\n",
    "\n",
    "# Add labels (with spacing)\n",
    "p += text(\"$e_1$\", (e1[0] + 0.2, e1[1] + 0.1), fontsize=12, color='blue')\n",
    "p += text(\"$e_2$\", (e2[0] + 0.2, e2[1] + 0.1), fontsize=12, color='blue')\n",
    "p += text(\"$T(e_1)$\", (Te1[0] - 0.3, Te1[1] + 0.2), fontsize=12, color='red')\n",
    "p += text(\"$T(e_2)$\", (Te2[0] - 0.3, Te2[1] + 0.2), fontsize=12, color='red')\n",
    "\n",
    "# Show the plot with gridlines and adjust plot settings\n",
    "\n",
    "p.show(aspect_ratio=1, xmin=-3, xmax=3, ymin=-3, ymax=3, gridlines=True)"
   ]
  },
  {
   "cell_type": "markdown",
   "id": "7e597e0d-f7fb-4697-a8d5-fdd61658dc83",
   "metadata": {},
   "source": [
    "In this example we use [RDF](https://doc.sagemath.org/html/en/reference/rings_numerical/sage/rings/real_double.html#sage.rings.real_double.RealDoubleField) to give you some exposure to other field types.\n",
    "\n",
    "This code snippet begins by defining the standard basis vectors, $ \\mathbf{e_1} $ and $ \\mathbf{e_2} $, in a two-dimensional vector space over the real numbers. These vectors serve as the fundamental building blocks for representing other vectors and transformations.\n",
    "\n",
    "Next, a transformation matrix $ A $ is created to represent a 45-degree counter-clockwise rotation. This matrix captures the effect of the rotation on vectors in the vector space.\n",
    "\n",
    "The transformation $ A $ is then applied to the standard basis vectors $ \\mathbf{e_1} $ and $ \\mathbf{e_2} $ to obtain the transformed vectors $ T(\\mathbf{e_1}) $ and $ T(\\mathbf{e_2}) $, respectively. These transformed vectors illustrate how the rotation affects the original basis vectors.\n",
    "\n",
    "A unit square is constructed using a set of points, and the transformation $ A $ is applied to each point of the square. This results in a new set of points representing the transformed square after the rotation.\n",
    "\n",
    "The plot displays the original unit vectors $ \\mathbf{e_1} $ and $ \\mathbf{e_2} $ in blue, their transformed counterparts $ T(\\mathbf{e_1}) $ and $ T(\\mathbf{e_2}) $ in red, and the unit square along with its transformation in green. Additionally, labels are added to visually identify the vectors.\n",
    "\n",
    "The plot settings are adjusted to ensure proper scaling and visibility, with gridlines included to aid in visualization.\n",
    "\n",
    "Overall, this code provides a visual representation of a linear transformation in two dimensions, showcasing the rotation of vectors and shapes using matrix operations.\n",
    "\n",
    "**Visualization Insights**\n",
    "\n",
    "* **Rotation Effect:** You'll see how the original square (in green) is rotated counter-clockwise by 45 degrees, resulting in a diamond shape (in green).\n",
    "* **Connection to Matrix Operations:** The visualization directly connects the geometric transformation to the matrix multiplication operation.\n"
   ]
  },
  {
   "cell_type": "markdown",
   "id": "79485834-77c1-4121-9965-6d4f739166dd",
   "metadata": {},
   "source": [
    "### Identity Matrix\n",
    "\n",
    "<div style=\"background-color:yellow; padding: 5px 10px 0px 10px; border: 1px solid black;\">\n",
    "\n",
    "Definitions:  **Identity Matrix**\n",
    "\n",
    "In linear algebra, the identity matrix is a square matrix denoted as $ I $ or $ I_n $, where $ n $ represents its dimension. It has 1s along the main diagonal and 0s elsewhere. For example:\n",
    "\n",
    "$ I_2 = \\begin{pmatrix} 1 & 0 \\\\ 0 & 1 \\end{pmatrix} $\n",
    "\n",
    "$ I_3 = \\begin{pmatrix} 1 & 0 & 0 \\\\ 0 & 1 & 0 \\\\ 0 & 0 & 1 \\end{pmatrix} $\n",
    "\n",
    "This matrix, when multiplied with any other matrix, yields the same matrix—a property crucial in various matrix operations.\n",
    "\n",
    "</div>"
   ]
  },
  {
   "cell_type": "code",
   "execution_count": 3,
   "id": "da8fab44-7f40-4ca6-860c-ba66057b618b",
   "metadata": {},
   "outputs": [
    {
     "name": "stdout",
     "output_type": "stream",
     "text": [
      "Original vector: (2, 3)\n",
      "Vector after identity transformation: (2, 3)\n"
     ]
    }
   ],
   "source": [
    "# Define the 2x2 identity matrix\n",
    "I_2 = matrix.identity(2)\n",
    "\n",
    "# Define a vector\n",
    "v = vector([2, 3])\n",
    "\n",
    "# Apply the identity transformation\n",
    "v_identity = I_2 * v\n",
    "\n",
    "# Display the original and transformed vectors\n",
    "print(\"Original vector:\", v)\n",
    "print(\"Vector after identity transformation:\", v_identity)\n"
   ]
  },
  {
   "cell_type": "markdown",
   "id": "73263e2a-494f-426e-8134-45048c4db341",
   "metadata": {},
   "source": [
    "### Inverse Matrix\n",
    "\n",
    "<div style=\"background-color:yellow; padding: 5px 10px 0px 10px; border: 1px solid black;\">\n",
    "\n",
    "Definitions:  **Inverse Matrix**\n",
    "\n",
    "The inverse of a square matrix $ A $, denoted as $ A^{-1} $, is another matrix such that when multiplied by $ A $, yields the identity matrix $ I $. Mathematically: \n",
    "\n",
    "$ A \\cdot A^{-1} = A^{-1} \\cdot A = I $\n",
    "\n",
    "In linear transformations, the inverse matrix reverses the effects of a transformation. For instance, if $ A $ transforms a vector $ \\mathbf{v} $ into $ \\mathbf{v'} $, then $ A^{-1} $ can revert $ \\mathbf{v'} $ back to $ \\mathbf{v} $ by multiplying it.\n",
    "\n",
    "See the section **Extra Content - manually finding a matrix inverse** at the end of this notebook if you want to manually find a matrix inverse.\n",
    "\n",
    "</div>"
   ]
  },
  {
   "cell_type": "markdown",
   "id": "2495e4fc-9b7f-4eed-a868-2e0228786773",
   "metadata": {},
   "source": [
    "Here's a 2D example of a transformation matrix and its inverse represented in LaTeX:\n",
    "\n",
    "Original matrix $ A $ representing a transformation:\n",
    "\n",
    "$ A = \\begin{pmatrix} 2 & 1 \\\\ 1 & 2 \\end{pmatrix} $\n",
    "\n",
    "Inverse matrix $ A^{-1} $ to reverse the transformation:\n",
    "\n",
    "$ A^{-1} = \\begin{pmatrix} \\frac{2}{3} & -\\frac{1}{3} \\\\ -\\frac{1}{3} & \\frac{2}{3} \\end{pmatrix} $\n",
    "\n",
    "In this example, $ A $ represents a linear transformation, and $ A^{-1} $ reverses this transformation when applied to the transformed vectors."
   ]
  },
  {
   "cell_type": "code",
   "execution_count": 4,
   "id": "0b23028a-56ee-44c0-86a1-37ee9a5f318a",
   "metadata": {},
   "outputs": [
    {
     "name": "stdout",
     "output_type": "stream",
     "text": [
      "Original vector before transformation: (3, 4)\n"
     ]
    }
   ],
   "source": [
    "# Define the 2x2 transformation matrix\n",
    "A = matrix([[2, 1],\n",
    "            [1, 2]])\n",
    "\n",
    "# Compute the inverse of A\n",
    "A_inv = A.inverse()\n",
    "\n",
    "# Define a vector before transformation\n",
    "v_before = vector([3, 4])\n",
    "\n",
    "print(\"Original vector before transformation:\", v_before)"
   ]
  },
  {
   "cell_type": "code",
   "execution_count": 5,
   "id": "a9f31600-5bac-4d8e-af32-4f0d0929240d",
   "metadata": {},
   "outputs": [
    {
     "name": "stdout",
     "output_type": "stream",
     "text": [
      "Vector after transformation: (10, 11)\n"
     ]
    }
   ],
   "source": [
    "# Apply the transformation\n",
    "v_after = A * v_before\n",
    "\n",
    "print(\"Vector after transformation:\", v_after)"
   ]
  },
  {
   "cell_type": "code",
   "execution_count": 6,
   "id": "809b6826-3af6-4f2e-ba50-114390dcf376",
   "metadata": {},
   "outputs": [
    {
     "name": "stdout",
     "output_type": "stream",
     "text": [
      "Vector after inverse transformation: (3, 4)\n"
     ]
    }
   ],
   "source": [
    "# Apply the inverse transformation\n",
    "v_back = A_inv * v_after\n",
    "\n",
    "print(\"Vector after inverse transformation:\", v_back)"
   ]
  },
  {
   "cell_type": "markdown",
   "id": "c7094c4e-481d-435c-9e9d-20ec7b12dbef",
   "metadata": {},
   "source": [
    "### Exercises\n",
    "\n",
    "Here are some ideas to explore transformations further:\n",
    "\n",
    "* **Different Transformations:** Experiment with other transformation matrices to visualize reflections, stretches, shears, etc. \n",
    "* **More Complex Shapes:** Apply the transformation to triangles, polygons, or even curves to see how they are affected.\n",
    "* **Higher Dimensions:** SageMath can handle 3D and higher-dimensional transformations. Try visualizing how a cube is transformed in 3D space.\n"
   ]
  },
  {
   "cell_type": "markdown",
   "id": "09c92b0d-370d-4f07-b499-3b4204a2a3de",
   "metadata": {},
   "source": [
    "### Extra Content - manually finding a matrix inverse "
   ]
  },
  {
   "cell_type": "markdown",
   "id": "9d7f475b-b926-44e9-9fa5-29fadc4d8ff5",
   "metadata": {},
   "source": [
    "To find the inverse of a 2x2 matrix like A = [[2, 1], [1, 2]], you can use the following formula:\n",
    "\n",
    "$ A^{-1} = \\frac{1}{{ad - bc}} \\times \\begin{bmatrix} d & -b \\\\ -c & a \\end{bmatrix} $\n",
    "\n",
    "Where $ a $, $ b $, $ c $, and $ d $ are the elements of the matrix A, and $ ad - bc $ is the determinant of A.\n",
    "\n",
    "For the matrix A = [[2, 1], [1, 2]], we have:\n",
    "\n",
    "$ a = 2, \\quad b = 1, \\quad c = 1, \\quad d = 2 $\n",
    "\n",
    "The determinant of A is:\n",
    "\n",
    "$ ad - bc = (2 \\times 2) - (1 \\times 1) = 3 $\n",
    "\n",
    "Now, plug these values into the formula to find the inverse:\n",
    "\n",
    "$ A^{-1} = \\frac{1}{3} \\times \\begin{bmatrix} 2 & -1 \\\\ -1 & 2 \\end{bmatrix} $\n",
    "\n",
    "$ A^{-1} = \\frac{1}{3} \\times \\begin{bmatrix} 2 & -1 \\\\ -1 & 2 \\end{bmatrix} $\n",
    "\n",
    "$ A^{-1} = \\begin{bmatrix} \\frac{2}{3} & -\\frac{1}{3} \\\\ -\\frac{1}{3} & \\frac{2}{3} \\end{bmatrix} $\n",
    "\n",
    "So, the inverse of the matrix A is:\n",
    "\n",
    "$ A^{-1} = \\begin{bmatrix} \\frac{2}{3} & -\\frac{1}{3} \\\\ -\\frac{1}{3} & \\frac{2}{3} \\end{bmatrix} $"
   ]
  },
  {
   "cell_type": "code",
   "execution_count": null,
   "id": "9fd875c9-5a14-48f5-acbc-1c2cacefc71d",
   "metadata": {},
   "outputs": [],
   "source": []
  }
 ],
 "metadata": {
  "kernelspec": {
   "display_name": "SageMath 10.3",
   "language": "sage",
   "name": "sagemath"
  },
  "language_info": {
   "codemirror_mode": {
    "name": "ipython",
    "version": 3
   },
   "file_extension": ".py",
   "mimetype": "text/x-python",
   "name": "python",
   "nbconvert_exporter": "python",
   "pygments_lexer": "ipython3",
   "version": "3.12.5"
  }
 },
 "nbformat": 4,
 "nbformat_minor": 5
}